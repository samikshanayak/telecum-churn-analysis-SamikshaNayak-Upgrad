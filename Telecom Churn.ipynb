{
 "cells": [
  {
   "cell_type": "markdown",
   "id": "7933db1e",
   "metadata": {},
   "source": [
    "# Problem Statement\n",
    "\n",
    "Customer retention is as crucial as customer acquisition when it comes to increasing revenue. Also we know, it is much more expensive to sign in a new client than keeping an existing one.\n",
    "\n",
    "It is advantageous for the telecom company to know what leads a client towards the decision to leave the company. Also churn prediction allows companies to develop loyalty programs and retention campaigns to keep as many customers as possible so we have 3 tasks:\n",
    "\n",
    "1. Analyze the customer churn rate for telecom because it is useful to understand why the customers leave.\n",
    "\n",
    "\n",
    "2. Predictive behavior modeling i.e. to classify if a customer is going to churn or not.\n",
    "\n",
    "\n",
    "3. Choose the most reliable model that will attach a probability to the churn to make it easier for customer service to target right customer in order to minimize their efforts to prevent churn.\n"
   ]
  },
  {
   "cell_type": "markdown",
   "id": "4ee12b70",
   "metadata": {},
   "source": [
    "# Importing Required Libraries"
   ]
  },
  {
   "cell_type": "code",
   "execution_count": 158,
   "id": "b79920ab",
   "metadata": {},
   "outputs": [],
   "source": [
    "\n",
    "import numpy as np\n",
    "import pandas as pd\n",
    "import matplotlib.pyplot as plt\n",
    "import seaborn as sns\n",
    "import sklearn \n",
    "%matplotlib inline\n",
    "\n",
    "import warnings\n",
    "warnings.filterwarnings(\"ignore\")\n"
   ]
  },
  {
   "cell_type": "markdown",
   "id": "b1e8eaa4",
   "metadata": {},
   "source": [
    "# Importing the Data"
   ]
  },
  {
   "cell_type": "code",
   "execution_count": 2,
   "id": "b377fcc4",
   "metadata": {},
   "outputs": [],
   "source": [
    "\n",
    "df = pd.read_csv(r\"C:/Users/Samiksha Nayak/OneDrive/Desktop/telecom_churn_data1.csv\")\n"
   ]
  },
  {
   "cell_type": "code",
   "execution_count": 3,
   "id": "167cc997",
   "metadata": {},
   "outputs": [
    {
     "data": {
      "text/html": [
       "<div>\n",
       "<style scoped>\n",
       "    .dataframe tbody tr th:only-of-type {\n",
       "        vertical-align: middle;\n",
       "    }\n",
       "\n",
       "    .dataframe tbody tr th {\n",
       "        vertical-align: top;\n",
       "    }\n",
       "\n",
       "    .dataframe thead th {\n",
       "        text-align: right;\n",
       "    }\n",
       "</style>\n",
       "<table border=\"1\" class=\"dataframe\">\n",
       "  <thead>\n",
       "    <tr style=\"text-align: right;\">\n",
       "      <th></th>\n",
       "      <th>mobile_number</th>\n",
       "      <th>circle_id</th>\n",
       "      <th>loc_og_t2o_mou</th>\n",
       "      <th>std_og_t2o_mou</th>\n",
       "      <th>loc_ic_t2o_mou</th>\n",
       "      <th>last_date_of_month_6</th>\n",
       "      <th>last_date_of_month_7</th>\n",
       "      <th>last_date_of_month_8</th>\n",
       "      <th>last_date_of_month_9</th>\n",
       "      <th>arpu_6</th>\n",
       "      <th>...</th>\n",
       "      <th>sachet_3g_9</th>\n",
       "      <th>fb_user_6</th>\n",
       "      <th>fb_user_7</th>\n",
       "      <th>fb_user_8</th>\n",
       "      <th>fb_user_9</th>\n",
       "      <th>aon</th>\n",
       "      <th>aug_vbc_3g</th>\n",
       "      <th>jul_vbc_3g</th>\n",
       "      <th>jun_vbc_3g</th>\n",
       "      <th>sep_vbc_3g</th>\n",
       "    </tr>\n",
       "  </thead>\n",
       "  <tbody>\n",
       "    <tr>\n",
       "      <th>0</th>\n",
       "      <td>7000842753</td>\n",
       "      <td>109</td>\n",
       "      <td>0.0</td>\n",
       "      <td>0.0</td>\n",
       "      <td>0.0</td>\n",
       "      <td>6/30/2014</td>\n",
       "      <td>7/31/2014</td>\n",
       "      <td>8/31/2014</td>\n",
       "      <td>9/30/2014</td>\n",
       "      <td>197.385</td>\n",
       "      <td>...</td>\n",
       "      <td>0</td>\n",
       "      <td>1.0</td>\n",
       "      <td>1.0</td>\n",
       "      <td>1.0</td>\n",
       "      <td>NaN</td>\n",
       "      <td>968</td>\n",
       "      <td>30.4</td>\n",
       "      <td>0.0</td>\n",
       "      <td>101.20</td>\n",
       "      <td>3.58</td>\n",
       "    </tr>\n",
       "    <tr>\n",
       "      <th>1</th>\n",
       "      <td>7001865778</td>\n",
       "      <td>109</td>\n",
       "      <td>0.0</td>\n",
       "      <td>0.0</td>\n",
       "      <td>0.0</td>\n",
       "      <td>6/30/2014</td>\n",
       "      <td>7/31/2014</td>\n",
       "      <td>8/31/2014</td>\n",
       "      <td>9/30/2014</td>\n",
       "      <td>34.047</td>\n",
       "      <td>...</td>\n",
       "      <td>0</td>\n",
       "      <td>NaN</td>\n",
       "      <td>1.0</td>\n",
       "      <td>1.0</td>\n",
       "      <td>NaN</td>\n",
       "      <td>1006</td>\n",
       "      <td>0.0</td>\n",
       "      <td>0.0</td>\n",
       "      <td>0.00</td>\n",
       "      <td>0.00</td>\n",
       "    </tr>\n",
       "    <tr>\n",
       "      <th>2</th>\n",
       "      <td>7001625959</td>\n",
       "      <td>109</td>\n",
       "      <td>0.0</td>\n",
       "      <td>0.0</td>\n",
       "      <td>0.0</td>\n",
       "      <td>6/30/2014</td>\n",
       "      <td>7/31/2014</td>\n",
       "      <td>8/31/2014</td>\n",
       "      <td>9/30/2014</td>\n",
       "      <td>167.690</td>\n",
       "      <td>...</td>\n",
       "      <td>0</td>\n",
       "      <td>NaN</td>\n",
       "      <td>NaN</td>\n",
       "      <td>NaN</td>\n",
       "      <td>1.0</td>\n",
       "      <td>1103</td>\n",
       "      <td>0.0</td>\n",
       "      <td>0.0</td>\n",
       "      <td>4.17</td>\n",
       "      <td>0.00</td>\n",
       "    </tr>\n",
       "    <tr>\n",
       "      <th>3</th>\n",
       "      <td>7001204172</td>\n",
       "      <td>109</td>\n",
       "      <td>0.0</td>\n",
       "      <td>0.0</td>\n",
       "      <td>0.0</td>\n",
       "      <td>6/30/2014</td>\n",
       "      <td>7/31/2014</td>\n",
       "      <td>8/31/2014</td>\n",
       "      <td>9/30/2014</td>\n",
       "      <td>221.338</td>\n",
       "      <td>...</td>\n",
       "      <td>0</td>\n",
       "      <td>NaN</td>\n",
       "      <td>NaN</td>\n",
       "      <td>NaN</td>\n",
       "      <td>NaN</td>\n",
       "      <td>2491</td>\n",
       "      <td>0.0</td>\n",
       "      <td>0.0</td>\n",
       "      <td>0.00</td>\n",
       "      <td>0.00</td>\n",
       "    </tr>\n",
       "    <tr>\n",
       "      <th>4</th>\n",
       "      <td>7000142493</td>\n",
       "      <td>109</td>\n",
       "      <td>0.0</td>\n",
       "      <td>0.0</td>\n",
       "      <td>0.0</td>\n",
       "      <td>6/30/2014</td>\n",
       "      <td>7/31/2014</td>\n",
       "      <td>8/31/2014</td>\n",
       "      <td>9/30/2014</td>\n",
       "      <td>261.636</td>\n",
       "      <td>...</td>\n",
       "      <td>0</td>\n",
       "      <td>0.0</td>\n",
       "      <td>NaN</td>\n",
       "      <td>NaN</td>\n",
       "      <td>NaN</td>\n",
       "      <td>1526</td>\n",
       "      <td>0.0</td>\n",
       "      <td>0.0</td>\n",
       "      <td>0.00</td>\n",
       "      <td>0.00</td>\n",
       "    </tr>\n",
       "  </tbody>\n",
       "</table>\n",
       "<p>5 rows × 226 columns</p>\n",
       "</div>"
      ],
      "text/plain": [
       "   mobile_number  circle_id  loc_og_t2o_mou  std_og_t2o_mou  loc_ic_t2o_mou  \\\n",
       "0     7000842753        109             0.0             0.0             0.0   \n",
       "1     7001865778        109             0.0             0.0             0.0   \n",
       "2     7001625959        109             0.0             0.0             0.0   \n",
       "3     7001204172        109             0.0             0.0             0.0   \n",
       "4     7000142493        109             0.0             0.0             0.0   \n",
       "\n",
       "  last_date_of_month_6 last_date_of_month_7 last_date_of_month_8  \\\n",
       "0            6/30/2014            7/31/2014            8/31/2014   \n",
       "1            6/30/2014            7/31/2014            8/31/2014   \n",
       "2            6/30/2014            7/31/2014            8/31/2014   \n",
       "3            6/30/2014            7/31/2014            8/31/2014   \n",
       "4            6/30/2014            7/31/2014            8/31/2014   \n",
       "\n",
       "  last_date_of_month_9   arpu_6  ...  sachet_3g_9  fb_user_6  fb_user_7  \\\n",
       "0            9/30/2014  197.385  ...            0        1.0        1.0   \n",
       "1            9/30/2014   34.047  ...            0        NaN        1.0   \n",
       "2            9/30/2014  167.690  ...            0        NaN        NaN   \n",
       "3            9/30/2014  221.338  ...            0        NaN        NaN   \n",
       "4            9/30/2014  261.636  ...            0        0.0        NaN   \n",
       "\n",
       "   fb_user_8  fb_user_9   aon  aug_vbc_3g  jul_vbc_3g  jun_vbc_3g  sep_vbc_3g  \n",
       "0        1.0        NaN   968        30.4         0.0      101.20        3.58  \n",
       "1        1.0        NaN  1006         0.0         0.0        0.00        0.00  \n",
       "2        NaN        1.0  1103         0.0         0.0        4.17        0.00  \n",
       "3        NaN        NaN  2491         0.0         0.0        0.00        0.00  \n",
       "4        NaN        NaN  1526         0.0         0.0        0.00        0.00  \n",
       "\n",
       "[5 rows x 226 columns]"
      ]
     },
     "execution_count": 3,
     "metadata": {},
     "output_type": "execute_result"
    }
   ],
   "source": [
    "\n",
    "df.head()  # Top 5 records\n"
   ]
  },
  {
   "cell_type": "code",
   "execution_count": 4,
   "id": "769e6789",
   "metadata": {},
   "outputs": [
    {
     "data": {
      "text/html": [
       "<div>\n",
       "<style scoped>\n",
       "    .dataframe tbody tr th:only-of-type {\n",
       "        vertical-align: middle;\n",
       "    }\n",
       "\n",
       "    .dataframe tbody tr th {\n",
       "        vertical-align: top;\n",
       "    }\n",
       "\n",
       "    .dataframe thead th {\n",
       "        text-align: right;\n",
       "    }\n",
       "</style>\n",
       "<table border=\"1\" class=\"dataframe\">\n",
       "  <thead>\n",
       "    <tr style=\"text-align: right;\">\n",
       "      <th></th>\n",
       "      <th>mobile_number</th>\n",
       "      <th>circle_id</th>\n",
       "      <th>loc_og_t2o_mou</th>\n",
       "      <th>std_og_t2o_mou</th>\n",
       "      <th>loc_ic_t2o_mou</th>\n",
       "      <th>last_date_of_month_6</th>\n",
       "      <th>last_date_of_month_7</th>\n",
       "      <th>last_date_of_month_8</th>\n",
       "      <th>last_date_of_month_9</th>\n",
       "      <th>arpu_6</th>\n",
       "      <th>...</th>\n",
       "      <th>sachet_3g_9</th>\n",
       "      <th>fb_user_6</th>\n",
       "      <th>fb_user_7</th>\n",
       "      <th>fb_user_8</th>\n",
       "      <th>fb_user_9</th>\n",
       "      <th>aon</th>\n",
       "      <th>aug_vbc_3g</th>\n",
       "      <th>jul_vbc_3g</th>\n",
       "      <th>jun_vbc_3g</th>\n",
       "      <th>sep_vbc_3g</th>\n",
       "    </tr>\n",
       "  </thead>\n",
       "  <tbody>\n",
       "    <tr>\n",
       "      <th>99994</th>\n",
       "      <td>7001548952</td>\n",
       "      <td>109</td>\n",
       "      <td>0.0</td>\n",
       "      <td>0.0</td>\n",
       "      <td>0.0</td>\n",
       "      <td>6/30/2014</td>\n",
       "      <td>7/31/2014</td>\n",
       "      <td>8/31/2014</td>\n",
       "      <td>9/30/2014</td>\n",
       "      <td>18.471</td>\n",
       "      <td>...</td>\n",
       "      <td>0</td>\n",
       "      <td>NaN</td>\n",
       "      <td>NaN</td>\n",
       "      <td>NaN</td>\n",
       "      <td>NaN</td>\n",
       "      <td>3199</td>\n",
       "      <td>0.00</td>\n",
       "      <td>0.00</td>\n",
       "      <td>0.00</td>\n",
       "      <td>0.0</td>\n",
       "    </tr>\n",
       "    <tr>\n",
       "      <th>99995</th>\n",
       "      <td>7000607688</td>\n",
       "      <td>109</td>\n",
       "      <td>0.0</td>\n",
       "      <td>0.0</td>\n",
       "      <td>0.0</td>\n",
       "      <td>6/30/2014</td>\n",
       "      <td>7/31/2014</td>\n",
       "      <td>8/31/2014</td>\n",
       "      <td>9/30/2014</td>\n",
       "      <td>112.201</td>\n",
       "      <td>...</td>\n",
       "      <td>0</td>\n",
       "      <td>NaN</td>\n",
       "      <td>NaN</td>\n",
       "      <td>NaN</td>\n",
       "      <td>NaN</td>\n",
       "      <td>2052</td>\n",
       "      <td>0.00</td>\n",
       "      <td>0.00</td>\n",
       "      <td>0.00</td>\n",
       "      <td>0.0</td>\n",
       "    </tr>\n",
       "    <tr>\n",
       "      <th>99996</th>\n",
       "      <td>7000087541</td>\n",
       "      <td>109</td>\n",
       "      <td>0.0</td>\n",
       "      <td>0.0</td>\n",
       "      <td>0.0</td>\n",
       "      <td>6/30/2014</td>\n",
       "      <td>7/31/2014</td>\n",
       "      <td>8/31/2014</td>\n",
       "      <td>9/30/2014</td>\n",
       "      <td>229.187</td>\n",
       "      <td>...</td>\n",
       "      <td>0</td>\n",
       "      <td>1.0</td>\n",
       "      <td>NaN</td>\n",
       "      <td>NaN</td>\n",
       "      <td>NaN</td>\n",
       "      <td>185</td>\n",
       "      <td>0.00</td>\n",
       "      <td>0.00</td>\n",
       "      <td>0.00</td>\n",
       "      <td>0.0</td>\n",
       "    </tr>\n",
       "    <tr>\n",
       "      <th>99997</th>\n",
       "      <td>7000498689</td>\n",
       "      <td>109</td>\n",
       "      <td>0.0</td>\n",
       "      <td>0.0</td>\n",
       "      <td>0.0</td>\n",
       "      <td>6/30/2014</td>\n",
       "      <td>7/31/2014</td>\n",
       "      <td>8/31/2014</td>\n",
       "      <td>9/30/2014</td>\n",
       "      <td>322.991</td>\n",
       "      <td>...</td>\n",
       "      <td>0</td>\n",
       "      <td>1.0</td>\n",
       "      <td>1.0</td>\n",
       "      <td>1.0</td>\n",
       "      <td>1.0</td>\n",
       "      <td>478</td>\n",
       "      <td>1445.74</td>\n",
       "      <td>1151.03</td>\n",
       "      <td>1173.18</td>\n",
       "      <td>0.0</td>\n",
       "    </tr>\n",
       "    <tr>\n",
       "      <th>99998</th>\n",
       "      <td>7001905007</td>\n",
       "      <td>109</td>\n",
       "      <td>0.0</td>\n",
       "      <td>0.0</td>\n",
       "      <td>0.0</td>\n",
       "      <td>6/30/2014</td>\n",
       "      <td>7/31/2014</td>\n",
       "      <td>8/31/2014</td>\n",
       "      <td>9/30/2014</td>\n",
       "      <td>687.065</td>\n",
       "      <td>...</td>\n",
       "      <td>0</td>\n",
       "      <td>1.0</td>\n",
       "      <td>NaN</td>\n",
       "      <td>NaN</td>\n",
       "      <td>NaN</td>\n",
       "      <td>751</td>\n",
       "      <td>0.00</td>\n",
       "      <td>0.00</td>\n",
       "      <td>0.00</td>\n",
       "      <td>0.0</td>\n",
       "    </tr>\n",
       "  </tbody>\n",
       "</table>\n",
       "<p>5 rows × 226 columns</p>\n",
       "</div>"
      ],
      "text/plain": [
       "       mobile_number  circle_id  loc_og_t2o_mou  std_og_t2o_mou  \\\n",
       "99994     7001548952        109             0.0             0.0   \n",
       "99995     7000607688        109             0.0             0.0   \n",
       "99996     7000087541        109             0.0             0.0   \n",
       "99997     7000498689        109             0.0             0.0   \n",
       "99998     7001905007        109             0.0             0.0   \n",
       "\n",
       "       loc_ic_t2o_mou last_date_of_month_6 last_date_of_month_7  \\\n",
       "99994             0.0            6/30/2014            7/31/2014   \n",
       "99995             0.0            6/30/2014            7/31/2014   \n",
       "99996             0.0            6/30/2014            7/31/2014   \n",
       "99997             0.0            6/30/2014            7/31/2014   \n",
       "99998             0.0            6/30/2014            7/31/2014   \n",
       "\n",
       "      last_date_of_month_8 last_date_of_month_9   arpu_6  ...  sachet_3g_9  \\\n",
       "99994            8/31/2014            9/30/2014   18.471  ...            0   \n",
       "99995            8/31/2014            9/30/2014  112.201  ...            0   \n",
       "99996            8/31/2014            9/30/2014  229.187  ...            0   \n",
       "99997            8/31/2014            9/30/2014  322.991  ...            0   \n",
       "99998            8/31/2014            9/30/2014  687.065  ...            0   \n",
       "\n",
       "       fb_user_6  fb_user_7  fb_user_8  fb_user_9   aon  aug_vbc_3g  \\\n",
       "99994        NaN        NaN        NaN        NaN  3199        0.00   \n",
       "99995        NaN        NaN        NaN        NaN  2052        0.00   \n",
       "99996        1.0        NaN        NaN        NaN   185        0.00   \n",
       "99997        1.0        1.0        1.0        1.0   478     1445.74   \n",
       "99998        1.0        NaN        NaN        NaN   751        0.00   \n",
       "\n",
       "       jul_vbc_3g  jun_vbc_3g  sep_vbc_3g  \n",
       "99994        0.00        0.00         0.0  \n",
       "99995        0.00        0.00         0.0  \n",
       "99996        0.00        0.00         0.0  \n",
       "99997     1151.03     1173.18         0.0  \n",
       "99998        0.00        0.00         0.0  \n",
       "\n",
       "[5 rows x 226 columns]"
      ]
     },
     "execution_count": 4,
     "metadata": {},
     "output_type": "execute_result"
    }
   ],
   "source": [
    "\n",
    "df.tail()   # Bottom 5 records\n"
   ]
  },
  {
   "cell_type": "markdown",
   "id": "95375758",
   "metadata": {},
   "source": [
    "# Understanding the Data"
   ]
  },
  {
   "cell_type": "code",
   "execution_count": 5,
   "id": "a36d5b18",
   "metadata": {},
   "outputs": [
    {
     "data": {
      "text/plain": [
       "(99999, 226)"
      ]
     },
     "execution_count": 5,
     "metadata": {},
     "output_type": "execute_result"
    }
   ],
   "source": [
    "\n",
    "df.shape\n"
   ]
  },
  {
   "cell_type": "raw",
   "id": "c8057721",
   "metadata": {},
   "source": []
  },
  {
   "cell_type": "markdown",
   "id": "e598cd48",
   "metadata": {},
   "source": [
    "There are 10,000 rows and 224 attributes present. Moving forward to Data Pre-processing, attributes that are not necessary for our analysis and modeling will be dropped.\n"
   ]
  },
  {
   "cell_type": "code",
   "execution_count": 6,
   "id": "4d795295",
   "metadata": {},
   "outputs": [
    {
     "data": {
      "text/plain": [
       "Index(['mobile_number', 'circle_id', 'loc_og_t2o_mou', 'std_og_t2o_mou',\n",
       "       'loc_ic_t2o_mou', 'last_date_of_month_6', 'last_date_of_month_7',\n",
       "       'last_date_of_month_8', 'last_date_of_month_9', 'arpu_6',\n",
       "       ...\n",
       "       'sachet_3g_9', 'fb_user_6', 'fb_user_7', 'fb_user_8', 'fb_user_9',\n",
       "       'aon', 'aug_vbc_3g', 'jul_vbc_3g', 'jun_vbc_3g', 'sep_vbc_3g'],\n",
       "      dtype='object', length=226)"
      ]
     },
     "execution_count": 6,
     "metadata": {},
     "output_type": "execute_result"
    }
   ],
   "source": [
    "\n",
    "df.columns  \n"
   ]
  },
  {
   "cell_type": "code",
   "execution_count": 7,
   "id": "13d7d532",
   "metadata": {
    "scrolled": false
   },
   "outputs": [
    {
     "name": "stdout",
     "output_type": "stream",
     "text": [
      "<class 'pandas.core.frame.DataFrame'>\n",
      "RangeIndex: 99999 entries, 0 to 99998\n",
      "Columns: 226 entries, mobile_number to sep_vbc_3g\n",
      "dtypes: float64(179), int64(35), object(12)\n",
      "memory usage: 172.4+ MB\n"
     ]
    }
   ],
   "source": [
    "\n",
    "df.info()  # Now let's see the data types of all 14 columns and non-null values present in each\n"
   ]
  },
  {
   "cell_type": "code",
   "execution_count": 8,
   "id": "12af1b07",
   "metadata": {},
   "outputs": [
    {
     "data": {
      "text/html": [
       "<div>\n",
       "<style scoped>\n",
       "    .dataframe tbody tr th:only-of-type {\n",
       "        vertical-align: middle;\n",
       "    }\n",
       "\n",
       "    .dataframe tbody tr th {\n",
       "        vertical-align: top;\n",
       "    }\n",
       "\n",
       "    .dataframe thead th {\n",
       "        text-align: right;\n",
       "    }\n",
       "</style>\n",
       "<table border=\"1\" class=\"dataframe\">\n",
       "  <thead>\n",
       "    <tr style=\"text-align: right;\">\n",
       "      <th></th>\n",
       "      <th>mobile_number</th>\n",
       "      <th>circle_id</th>\n",
       "      <th>loc_og_t2o_mou</th>\n",
       "      <th>std_og_t2o_mou</th>\n",
       "      <th>loc_ic_t2o_mou</th>\n",
       "      <th>arpu_6</th>\n",
       "      <th>arpu_7</th>\n",
       "      <th>arpu_8</th>\n",
       "      <th>arpu_9</th>\n",
       "      <th>onnet_mou_6</th>\n",
       "      <th>...</th>\n",
       "      <th>sachet_3g_9</th>\n",
       "      <th>fb_user_6</th>\n",
       "      <th>fb_user_7</th>\n",
       "      <th>fb_user_8</th>\n",
       "      <th>fb_user_9</th>\n",
       "      <th>aon</th>\n",
       "      <th>aug_vbc_3g</th>\n",
       "      <th>jul_vbc_3g</th>\n",
       "      <th>jun_vbc_3g</th>\n",
       "      <th>sep_vbc_3g</th>\n",
       "    </tr>\n",
       "  </thead>\n",
       "  <tbody>\n",
       "    <tr>\n",
       "      <th>count</th>\n",
       "      <td>9.999900e+04</td>\n",
       "      <td>99999.0</td>\n",
       "      <td>98981.0</td>\n",
       "      <td>98981.0</td>\n",
       "      <td>98981.0</td>\n",
       "      <td>99999.000000</td>\n",
       "      <td>99999.000000</td>\n",
       "      <td>99999.000000</td>\n",
       "      <td>99999.000000</td>\n",
       "      <td>96062.000000</td>\n",
       "      <td>...</td>\n",
       "      <td>99999.000000</td>\n",
       "      <td>25153.000000</td>\n",
       "      <td>25571.000000</td>\n",
       "      <td>26339.000000</td>\n",
       "      <td>25922.000000</td>\n",
       "      <td>99999.000000</td>\n",
       "      <td>99999.000000</td>\n",
       "      <td>99999.000000</td>\n",
       "      <td>99999.000000</td>\n",
       "      <td>99999.000000</td>\n",
       "    </tr>\n",
       "    <tr>\n",
       "      <th>mean</th>\n",
       "      <td>7.001207e+09</td>\n",
       "      <td>109.0</td>\n",
       "      <td>0.0</td>\n",
       "      <td>0.0</td>\n",
       "      <td>0.0</td>\n",
       "      <td>282.987358</td>\n",
       "      <td>278.536648</td>\n",
       "      <td>279.154731</td>\n",
       "      <td>261.645069</td>\n",
       "      <td>132.395875</td>\n",
       "      <td>...</td>\n",
       "      <td>0.084581</td>\n",
       "      <td>0.914404</td>\n",
       "      <td>0.908764</td>\n",
       "      <td>0.890808</td>\n",
       "      <td>0.860968</td>\n",
       "      <td>1219.854749</td>\n",
       "      <td>68.170248</td>\n",
       "      <td>66.839062</td>\n",
       "      <td>60.021204</td>\n",
       "      <td>3.299373</td>\n",
       "    </tr>\n",
       "    <tr>\n",
       "      <th>std</th>\n",
       "      <td>6.956694e+05</td>\n",
       "      <td>0.0</td>\n",
       "      <td>0.0</td>\n",
       "      <td>0.0</td>\n",
       "      <td>0.0</td>\n",
       "      <td>328.439770</td>\n",
       "      <td>338.156291</td>\n",
       "      <td>344.474791</td>\n",
       "      <td>341.998630</td>\n",
       "      <td>297.207406</td>\n",
       "      <td>...</td>\n",
       "      <td>0.650457</td>\n",
       "      <td>0.279772</td>\n",
       "      <td>0.287950</td>\n",
       "      <td>0.311885</td>\n",
       "      <td>0.345987</td>\n",
       "      <td>954.733842</td>\n",
       "      <td>267.580450</td>\n",
       "      <td>271.201856</td>\n",
       "      <td>253.938223</td>\n",
       "      <td>32.408353</td>\n",
       "    </tr>\n",
       "    <tr>\n",
       "      <th>min</th>\n",
       "      <td>7.000000e+09</td>\n",
       "      <td>109.0</td>\n",
       "      <td>0.0</td>\n",
       "      <td>0.0</td>\n",
       "      <td>0.0</td>\n",
       "      <td>-2258.709000</td>\n",
       "      <td>-2014.045000</td>\n",
       "      <td>-945.808000</td>\n",
       "      <td>-1899.505000</td>\n",
       "      <td>0.000000</td>\n",
       "      <td>...</td>\n",
       "      <td>0.000000</td>\n",
       "      <td>0.000000</td>\n",
       "      <td>0.000000</td>\n",
       "      <td>0.000000</td>\n",
       "      <td>0.000000</td>\n",
       "      <td>180.000000</td>\n",
       "      <td>0.000000</td>\n",
       "      <td>0.000000</td>\n",
       "      <td>0.000000</td>\n",
       "      <td>0.000000</td>\n",
       "    </tr>\n",
       "    <tr>\n",
       "      <th>25%</th>\n",
       "      <td>7.000606e+09</td>\n",
       "      <td>109.0</td>\n",
       "      <td>0.0</td>\n",
       "      <td>0.0</td>\n",
       "      <td>0.0</td>\n",
       "      <td>93.411500</td>\n",
       "      <td>86.980500</td>\n",
       "      <td>84.126000</td>\n",
       "      <td>62.685000</td>\n",
       "      <td>7.380000</td>\n",
       "      <td>...</td>\n",
       "      <td>0.000000</td>\n",
       "      <td>1.000000</td>\n",
       "      <td>1.000000</td>\n",
       "      <td>1.000000</td>\n",
       "      <td>1.000000</td>\n",
       "      <td>467.000000</td>\n",
       "      <td>0.000000</td>\n",
       "      <td>0.000000</td>\n",
       "      <td>0.000000</td>\n",
       "      <td>0.000000</td>\n",
       "    </tr>\n",
       "    <tr>\n",
       "      <th>50%</th>\n",
       "      <td>7.001205e+09</td>\n",
       "      <td>109.0</td>\n",
       "      <td>0.0</td>\n",
       "      <td>0.0</td>\n",
       "      <td>0.0</td>\n",
       "      <td>197.704000</td>\n",
       "      <td>191.640000</td>\n",
       "      <td>192.080000</td>\n",
       "      <td>176.849000</td>\n",
       "      <td>34.310000</td>\n",
       "      <td>...</td>\n",
       "      <td>0.000000</td>\n",
       "      <td>1.000000</td>\n",
       "      <td>1.000000</td>\n",
       "      <td>1.000000</td>\n",
       "      <td>1.000000</td>\n",
       "      <td>863.000000</td>\n",
       "      <td>0.000000</td>\n",
       "      <td>0.000000</td>\n",
       "      <td>0.000000</td>\n",
       "      <td>0.000000</td>\n",
       "    </tr>\n",
       "    <tr>\n",
       "      <th>75%</th>\n",
       "      <td>7.001812e+09</td>\n",
       "      <td>109.0</td>\n",
       "      <td>0.0</td>\n",
       "      <td>0.0</td>\n",
       "      <td>0.0</td>\n",
       "      <td>371.060000</td>\n",
       "      <td>365.344500</td>\n",
       "      <td>369.370500</td>\n",
       "      <td>353.466500</td>\n",
       "      <td>118.740000</td>\n",
       "      <td>...</td>\n",
       "      <td>0.000000</td>\n",
       "      <td>1.000000</td>\n",
       "      <td>1.000000</td>\n",
       "      <td>1.000000</td>\n",
       "      <td>1.000000</td>\n",
       "      <td>1807.500000</td>\n",
       "      <td>0.000000</td>\n",
       "      <td>0.000000</td>\n",
       "      <td>0.000000</td>\n",
       "      <td>0.000000</td>\n",
       "    </tr>\n",
       "    <tr>\n",
       "      <th>max</th>\n",
       "      <td>7.002411e+09</td>\n",
       "      <td>109.0</td>\n",
       "      <td>0.0</td>\n",
       "      <td>0.0</td>\n",
       "      <td>0.0</td>\n",
       "      <td>27731.088000</td>\n",
       "      <td>35145.834000</td>\n",
       "      <td>33543.624000</td>\n",
       "      <td>38805.617000</td>\n",
       "      <td>7376.710000</td>\n",
       "      <td>...</td>\n",
       "      <td>49.000000</td>\n",
       "      <td>1.000000</td>\n",
       "      <td>1.000000</td>\n",
       "      <td>1.000000</td>\n",
       "      <td>1.000000</td>\n",
       "      <td>4337.000000</td>\n",
       "      <td>12916.220000</td>\n",
       "      <td>9165.600000</td>\n",
       "      <td>11166.210000</td>\n",
       "      <td>2618.570000</td>\n",
       "    </tr>\n",
       "  </tbody>\n",
       "</table>\n",
       "<p>8 rows × 214 columns</p>\n",
       "</div>"
      ],
      "text/plain": [
       "       mobile_number  circle_id  loc_og_t2o_mou  std_og_t2o_mou  \\\n",
       "count   9.999900e+04    99999.0         98981.0         98981.0   \n",
       "mean    7.001207e+09      109.0             0.0             0.0   \n",
       "std     6.956694e+05        0.0             0.0             0.0   \n",
       "min     7.000000e+09      109.0             0.0             0.0   \n",
       "25%     7.000606e+09      109.0             0.0             0.0   \n",
       "50%     7.001205e+09      109.0             0.0             0.0   \n",
       "75%     7.001812e+09      109.0             0.0             0.0   \n",
       "max     7.002411e+09      109.0             0.0             0.0   \n",
       "\n",
       "       loc_ic_t2o_mou        arpu_6        arpu_7        arpu_8        arpu_9  \\\n",
       "count         98981.0  99999.000000  99999.000000  99999.000000  99999.000000   \n",
       "mean              0.0    282.987358    278.536648    279.154731    261.645069   \n",
       "std               0.0    328.439770    338.156291    344.474791    341.998630   \n",
       "min               0.0  -2258.709000  -2014.045000   -945.808000  -1899.505000   \n",
       "25%               0.0     93.411500     86.980500     84.126000     62.685000   \n",
       "50%               0.0    197.704000    191.640000    192.080000    176.849000   \n",
       "75%               0.0    371.060000    365.344500    369.370500    353.466500   \n",
       "max               0.0  27731.088000  35145.834000  33543.624000  38805.617000   \n",
       "\n",
       "        onnet_mou_6  ...   sachet_3g_9     fb_user_6     fb_user_7  \\\n",
       "count  96062.000000  ...  99999.000000  25153.000000  25571.000000   \n",
       "mean     132.395875  ...      0.084581      0.914404      0.908764   \n",
       "std      297.207406  ...      0.650457      0.279772      0.287950   \n",
       "min        0.000000  ...      0.000000      0.000000      0.000000   \n",
       "25%        7.380000  ...      0.000000      1.000000      1.000000   \n",
       "50%       34.310000  ...      0.000000      1.000000      1.000000   \n",
       "75%      118.740000  ...      0.000000      1.000000      1.000000   \n",
       "max     7376.710000  ...     49.000000      1.000000      1.000000   \n",
       "\n",
       "          fb_user_8     fb_user_9           aon    aug_vbc_3g    jul_vbc_3g  \\\n",
       "count  26339.000000  25922.000000  99999.000000  99999.000000  99999.000000   \n",
       "mean       0.890808      0.860968   1219.854749     68.170248     66.839062   \n",
       "std        0.311885      0.345987    954.733842    267.580450    271.201856   \n",
       "min        0.000000      0.000000    180.000000      0.000000      0.000000   \n",
       "25%        1.000000      1.000000    467.000000      0.000000      0.000000   \n",
       "50%        1.000000      1.000000    863.000000      0.000000      0.000000   \n",
       "75%        1.000000      1.000000   1807.500000      0.000000      0.000000   \n",
       "max        1.000000      1.000000   4337.000000  12916.220000   9165.600000   \n",
       "\n",
       "         jun_vbc_3g    sep_vbc_3g  \n",
       "count  99999.000000  99999.000000  \n",
       "mean      60.021204      3.299373  \n",
       "std      253.938223     32.408353  \n",
       "min        0.000000      0.000000  \n",
       "25%        0.000000      0.000000  \n",
       "50%        0.000000      0.000000  \n",
       "75%        0.000000      0.000000  \n",
       "max    11166.210000   2618.570000  \n",
       "\n",
       "[8 rows x 214 columns]"
      ]
     },
     "execution_count": 8,
     "metadata": {},
     "output_type": "execute_result"
    }
   ],
   "source": [
    "df.describe()"
   ]
  },
  {
   "cell_type": "code",
   "execution_count": 44,
   "id": "da3b9067",
   "metadata": {},
   "outputs": [
    {
     "data": {
      "text/plain": [
       "mobile_number        0\n",
       "circle_id            0\n",
       "loc_og_t2o_mou    1018\n",
       "std_og_t2o_mou    1018\n",
       "loc_ic_t2o_mou    1018\n",
       "                  ... \n",
       "aon                  0\n",
       "aug_vbc_3g           0\n",
       "jul_vbc_3g           0\n",
       "jun_vbc_3g           0\n",
       "sep_vbc_3g           0\n",
       "Length: 226, dtype: int64"
      ]
     },
     "execution_count": 44,
     "metadata": {},
     "output_type": "execute_result"
    }
   ],
   "source": [
    "df.isnull().sum()"
   ]
  },
  {
   "cell_type": "code",
   "execution_count": 89,
   "id": "b5462218",
   "metadata": {},
   "outputs": [
    {
     "data": {
      "text/plain": [
       "(12368, 226)"
      ]
     },
     "execution_count": 89,
     "metadata": {},
     "output_type": "execute_result"
    }
   ],
   "source": [
    "df.dropna(inplace = True)\n",
    "\n",
    "df2 = df.iloc[:,1:]\n",
    "#Convertin the predictor variable in a binary numeric variable\n",
    "df2.shape"
   ]
  },
  {
   "cell_type": "markdown",
   "id": "9d87653b",
   "metadata": {},
   "source": [
    "Observation: Features in the training data are a lot different in terms of variance and mean. It would be a good idea to perform mean centering and variance scaling if working with models that utilize distance measures."
   ]
  },
  {
   "cell_type": "markdown",
   "id": "a5f3aa0c",
   "metadata": {},
   "source": [
    "Check the class imbalance for the month of september:By counting the number of samples for each class, and plotted percentage of churned samples v/s samples that did not churn."
   ]
  },
  {
   "cell_type": "code",
   "execution_count": 53,
   "id": "ecd75fc8",
   "metadata": {},
   "outputs": [
    {
     "data": {
      "text/plain": [
       "5467"
      ]
     },
     "execution_count": 53,
     "metadata": {},
     "output_type": "execute_result"
    }
   ],
   "source": [
    "df.loc[:,\"jun_vbc_3g\"].value_counts(normalize=False).loc[0]\n",
    "\n",
    "len(df2)-df2.loc[:,\"sep_vbc_3g\"].value_counts(normalize=False).loc[0]\n",
    "##df[jun_vbc_3g].value_counts(normalize=False).loc[1]"
   ]
  },
  {
   "cell_type": "code",
   "execution_count": 86,
   "id": "2f2514e2",
   "metadata": {},
   "outputs": [
    {
     "name": "stdout",
     "output_type": "stream",
     "text": [
      "not_churned:  8387 , churned:  3981\n"
     ]
    },
    {
     "data": {
      "image/png": "[encoded data removed]",
      "text/plain": [
       "<Figure size 360x360 with 1 Axes>"
      ]
     },
     "metadata": {},
     "output_type": "display_data"
    }
   ],
   "source": [
    "# Checking Imbalance in Data\n",
    "churned = df[df['Churn']=='yes']['Churn'].count()\n",
    "not_churned = df[df['Churn']=='no']['Churn'].count()\n",
    "print('not_churned: ',not_churned,', churned: ',churned)\n",
    "\n",
    "fig = plt.figure(figsize=(5,5)) \n",
    "plt.pie([not_churned,churned], labels=['not_churned','churned'],autopct='%.2f')\n",
    "plt.title('Pie Chart Customers Churned v/s Not Churned')\n",
    "plt.show()"
   ]
  },
  {
   "cell_type": "markdown",
   "id": "a4c2924f",
   "metadata": {},
   "source": [
    "Observation: There is a significant imbalance in the two classes of data."
   ]
  },
  {
   "cell_type": "markdown",
   "id": "648bad66",
   "metadata": {},
   "source": [
    "Creating a new column as \"churn\""
   ]
  },
  {
   "cell_type": "code",
   "execution_count": 88,
   "id": "11dc2d14",
   "metadata": {},
   "outputs": [
    {
     "data": {
      "text/plain": [
       "(12368, 227)"
      ]
     },
     "execution_count": 88,
     "metadata": {},
     "output_type": "execute_result"
    }
   ],
   "source": [
    "def f(row):\n",
    "    if row[\"sep_vbc_3g\"] > 0 or row[\"aug_vbc_3g\"]>0 or row[\"jun_vbc_3g\"]>0 or row[\"jul_vbc_3g\"]>0:\n",
    "        val = 'no'\n",
    "    else:\n",
    "        val = 'yes'\n",
    "    return val\n",
    "\n",
    "#create new column 'Good' using the function above\n",
    "df['Churn'] = df.apply(f, axis=1)\n",
    "df.describe()\n",
    "df.shape"
   ]
  },
  {
   "cell_type": "markdown",
   "id": "7b1758fd",
   "metadata": {},
   "source": [
    "Visualizing the distribution of some features for both the classes:"
   ]
  },
  {
   "cell_type": "markdown",
   "id": "94fc06c1",
   "metadata": {},
   "source": [
    "Minutes of Usage"
   ]
  },
  {
   "cell_type": "code",
   "execution_count": 103,
   "id": "accfd843",
   "metadata": {},
   "outputs": [
    {
     "data": {
      "image/png": "[encoded data removed]",
      "text/plain": [
       "<Figure size 432x288 with 1 Axes>"
      ]
     },
     "metadata": {
      "needs_background": "light"
     },
     "output_type": "display_data"
    }
   ],
   "source": [
    "# Plotting minutes for both the class labels\n",
    "df['arp_total']=df['arpu_6']+df['arpu_7']+df['arpu_8']+df['arpu_9']\n",
    "mou_churned = df[df['Churn']=='yes']['arp_total']\n",
    "mou_not_churned =df[df['Churn']=='no']['arp_total' ]\n",
    "sns.distplot(mou_churned,label='Churned')\n",
    "sns.distplot(mou_not_churned,label='Not_churned')\n",
    "plt.title('Distribution of Account Length for Churned and  Not_Churned')\n",
    "plt.legend()\n",
    "plt.show()"
   ]
  },
  {
   "cell_type": "code",
   "execution_count": 100,
   "id": "e17c249b",
   "metadata": {},
   "outputs": [
    {
     "data": {
      "image/png": "[encoded data removed]",
      "text/plain": [
       "<Figure size 432x288 with 1 Axes>"
      ]
     },
     "metadata": {
      "needs_background": "light"
     },
     "output_type": "display_data"
    }
   ],
   "source": [
    "# Plotting aon for both the class labels\n",
    "aon_churned = df[df['Churn']=='yes']['aon' ]\n",
    "aon_not_churned =df[df['Churn']=='no']['aon']\n",
    "sns.distplot(aon_churned,label='Churned')\n",
    "sns.distplot(aon_not_churned,label='Not_churned')\n",
    "plt.title('Distribution of Account Length for Churned and  Not_Churned')\n",
    "plt.legend()\n",
    "plt.show()"
   ]
  },
  {
   "cell_type": "code",
   "execution_count": null,
   "id": "6dac0023",
   "metadata": {},
   "outputs": [],
   "source": []
  },
  {
   "cell_type": "code",
   "execution_count": null,
   "id": "e732ba3c",
   "metadata": {},
   "outputs": [],
   "source": []
  },
  {
   "cell_type": "code",
   "execution_count": 111,
   "id": "07ce903e",
   "metadata": {},
   "outputs": [
    {
     "data": {
      "image/png": "[encoded data removed]",
      "text/plain": [
       "<Figure size 432x288 with 1 Axes>"
      ]
     },
     "metadata": {
      "needs_background": "light"
     },
     "output_type": "display_data"
    }
   ],
   "source": [
    "# Plotting PDF of isd_ic_total for both the class labels\n",
    "df['isd_ic_total']=df['isd_ic_mou_8']+df['isd_ic_mou_9']+df['isd_ic_mou_6']+df['isd_ic_mou_7']\n",
    "isd_call_churned = df[df['Churn']=='yes']['isd_ic_total']\n",
    "isd_call_not_churned =df[df['Churn']=='no']['isd_ic_total']\n",
    "sns.distplot(isd_call_churned,hist=False,label='Churned')\n",
    "sns.distplot(isd_call_not_churned,hist=False,label='Not_churned')\n",
    "plt.title('Distribution of number_vmail_messages for Churned and Not_Churned')\n",
    "plt.legend()\n",
    "plt.show()\n",
    " \n"
   ]
  },
  {
   "cell_type": "code",
   "execution_count": null,
   "id": "99bb9e91",
   "metadata": {},
   "outputs": [],
   "source": []
  },
  {
   "cell_type": "markdown",
   "id": "81eb1f1b",
   "metadata": {},
   "source": [
    "### a"
   ]
  },
  {
   "cell_type": "code",
   "execution_count": null,
   "id": "ec0d1577",
   "metadata": {},
   "outputs": [],
   "source": [
    "# Building pair plot\n",
    "\n",
    "sns.pairplot(data,vars=['isd_ic_total','arp_total', 'total_day_charge','total_eve_charge','total_night_charge',            'total_intl_charge','number_customer_service_calls'],hue='churn')\n",
    "\n"
   ]
  },
  {
   "cell_type": "code",
   "execution_count": 113,
   "id": "a23002b5",
   "metadata": {},
   "outputs": [
    {
     "data": {
      "text/plain": [
       "<AxesSubplot:>"
      ]
     },
     "execution_count": 113,
     "metadata": {},
     "output_type": "execute_result"
    },
    {
     "data": {
      "image/png": "[encoded data removed]",
      "text/plain": [
       "<Figure size 1008x576 with 2 Axes>"
      ]
     },
     "metadata": {},
     "output_type": "display_data"
    }
   ],
   "source": [
    "sns.set(style=\"white\", font_scale =1.5)\n",
    "corr = df.corr()\n",
    "\n",
    "mask = np.zeros_like(corr, dtype=np.bool)\n",
    "mask[np.triu_indices_from(mask)] = True\n",
    "\n",
    "f,ax = plt.subplots(figsize=(14,8))\n",
    "f.suptitle('Correlation_Matrix')\n",
    "\n",
    "#cmap = sns.diverging_palette(220, 10, as_cmap=True)\n",
    "\n",
    "sns.heatmap(corr, mask=mask, cmap='YlGnBu', vmax=.3, center=0,\n",
    "            square=True, linewidths=.5, cbar_kws={\"shrink\": .5})"
   ]
  },
  {
   "cell_type": "markdown",
   "id": "333ec7d3",
   "metadata": {},
   "source": [
    "### Duplication Check"
   ]
  },
  {
   "cell_type": "code",
   "execution_count": 105,
   "id": "8eb35643",
   "metadata": {},
   "outputs": [
    {
     "data": {
      "text/html": [
       "<div>\n",
       "<style scoped>\n",
       "    .dataframe tbody tr th:only-of-type {\n",
       "        vertical-align: middle;\n",
       "    }\n",
       "\n",
       "    .dataframe tbody tr th {\n",
       "        vertical-align: top;\n",
       "    }\n",
       "\n",
       "    .dataframe thead th {\n",
       "        text-align: right;\n",
       "    }\n",
       "</style>\n",
       "<table border=\"1\" class=\"dataframe\">\n",
       "  <thead>\n",
       "    <tr style=\"text-align: right;\">\n",
       "      <th></th>\n",
       "      <th>mobile_number</th>\n",
       "      <th>circle_id</th>\n",
       "      <th>loc_og_t2o_mou</th>\n",
       "      <th>std_og_t2o_mou</th>\n",
       "      <th>loc_ic_t2o_mou</th>\n",
       "      <th>last_date_of_month_6</th>\n",
       "      <th>last_date_of_month_7</th>\n",
       "      <th>last_date_of_month_8</th>\n",
       "      <th>last_date_of_month_9</th>\n",
       "      <th>arpu_6</th>\n",
       "      <th>...</th>\n",
       "      <th>fb_user_7</th>\n",
       "      <th>fb_user_8</th>\n",
       "      <th>fb_user_9</th>\n",
       "      <th>aon</th>\n",
       "      <th>aug_vbc_3g</th>\n",
       "      <th>jul_vbc_3g</th>\n",
       "      <th>jun_vbc_3g</th>\n",
       "      <th>sep_vbc_3g</th>\n",
       "      <th>Churn</th>\n",
       "      <th>arp_total</th>\n",
       "    </tr>\n",
       "  </thead>\n",
       "  <tbody>\n",
       "  </tbody>\n",
       "</table>\n",
       "<p>0 rows × 228 columns</p>\n",
       "</div>"
      ],
      "text/plain": [
       "Empty DataFrame\n",
       "Columns: [mobile_number, circle_id, loc_og_t2o_mou, std_og_t2o_mou, loc_ic_t2o_mou, last_date_of_month_6, last_date_of_month_7, last_date_of_month_8, last_date_of_month_9, arpu_6, arpu_7, arpu_8, arpu_9, onnet_mou_6, onnet_mou_7, onnet_mou_8, onnet_mou_9, offnet_mou_6, offnet_mou_7, offnet_mou_8, offnet_mou_9, roam_ic_mou_6, roam_ic_mou_7, roam_ic_mou_8, roam_ic_mou_9, roam_og_mou_6, roam_og_mou_7, roam_og_mou_8, roam_og_mou_9, loc_og_t2t_mou_6, loc_og_t2t_mou_7, loc_og_t2t_mou_8, loc_og_t2t_mou_9, loc_og_t2m_mou_6, loc_og_t2m_mou_7, loc_og_t2m_mou_8, loc_og_t2m_mou_9, loc_og_t2f_mou_6, loc_og_t2f_mou_7, loc_og_t2f_mou_8, loc_og_t2f_mou_9, loc_og_t2c_mou_6, loc_og_t2c_mou_7, loc_og_t2c_mou_8, loc_og_t2c_mou_9, loc_og_mou_6, loc_og_mou_7, loc_og_mou_8, loc_og_mou_9, std_og_t2t_mou_6, std_og_t2t_mou_7, std_og_t2t_mou_8, std_og_t2t_mou_9, std_og_t2m_mou_6, std_og_t2m_mou_7, std_og_t2m_mou_8, std_og_t2m_mou_9, std_og_t2f_mou_6, std_og_t2f_mou_7, std_og_t2f_mou_8, std_og_t2f_mou_9, std_og_t2c_mou_6, std_og_t2c_mou_7, std_og_t2c_mou_8, std_og_t2c_mou_9, std_og_mou_6, std_og_mou_7, std_og_mou_8, std_og_mou_9, isd_og_mou_6, isd_og_mou_7, isd_og_mou_8, isd_og_mou_9, spl_og_mou_6, spl_og_mou_7, spl_og_mou_8, spl_og_mou_9, og_others_6, og_others_7, og_others_8, og_others_9, total_og_mou_6, total_og_mou_7, total_og_mou_8, total_og_mou_9, loc_ic_t2t_mou_6, loc_ic_t2t_mou_7, loc_ic_t2t_mou_8, loc_ic_t2t_mou_9, loc_ic_t2m_mou_6, loc_ic_t2m_mou_7, loc_ic_t2m_mou_8, loc_ic_t2m_mou_9, loc_ic_t2f_mou_6, loc_ic_t2f_mou_7, loc_ic_t2f_mou_8, loc_ic_t2f_mou_9, loc_ic_mou_6, loc_ic_mou_7, loc_ic_mou_8, ...]\n",
       "Index: []\n",
       "\n",
       "[0 rows x 228 columns]"
      ]
     },
     "execution_count": 105,
     "metadata": {},
     "output_type": "execute_result"
    }
   ],
   "source": [
    "\n",
    "df[df.duplicated()]\n"
   ]
  },
  {
   "cell_type": "markdown",
   "id": "fef1ed4b",
   "metadata": {},
   "source": [
    "\n",
    "\n",
    "No duplicates present.\n",
    "\n"
   ]
  },
  {
   "cell_type": "markdown",
   "id": "b9cca8e6",
   "metadata": {},
   "source": [
    "### Numerical Columns"
   ]
  },
  {
   "cell_type": "code",
   "execution_count": 104,
   "id": "64459df4",
   "metadata": {},
   "outputs": [
    {
     "data": {
      "text/html": [
       "<div>\n",
       "<style scoped>\n",
       "    .dataframe tbody tr th:only-of-type {\n",
       "        vertical-align: middle;\n",
       "    }\n",
       "\n",
       "    .dataframe tbody tr th {\n",
       "        vertical-align: top;\n",
       "    }\n",
       "\n",
       "    .dataframe thead th {\n",
       "        text-align: right;\n",
       "    }\n",
       "</style>\n",
       "<table border=\"1\" class=\"dataframe\">\n",
       "  <thead>\n",
       "    <tr style=\"text-align: right;\">\n",
       "      <th></th>\n",
       "      <th>count</th>\n",
       "      <th>mean</th>\n",
       "      <th>std</th>\n",
       "      <th>min</th>\n",
       "      <th>25%</th>\n",
       "      <th>50%</th>\n",
       "      <th>75%</th>\n",
       "      <th>max</th>\n",
       "    </tr>\n",
       "  </thead>\n",
       "  <tbody>\n",
       "    <tr>\n",
       "      <th>mobile_number</th>\n",
       "      <td>12368.0</td>\n",
       "      <td>7.001201e+09</td>\n",
       "      <td>682213.916539</td>\n",
       "      <td>7.000000e+09</td>\n",
       "      <td>7.000617e+09</td>\n",
       "      <td>7.001200e+09</td>\n",
       "      <td>7.001775e+09</td>\n",
       "      <td>7.002410e+09</td>\n",
       "    </tr>\n",
       "    <tr>\n",
       "      <th>circle_id</th>\n",
       "      <td>12368.0</td>\n",
       "      <td>1.090000e+02</td>\n",
       "      <td>0.000000</td>\n",
       "      <td>1.090000e+02</td>\n",
       "      <td>1.090000e+02</td>\n",
       "      <td>1.090000e+02</td>\n",
       "      <td>1.090000e+02</td>\n",
       "      <td>1.090000e+02</td>\n",
       "    </tr>\n",
       "    <tr>\n",
       "      <th>loc_og_t2o_mou</th>\n",
       "      <td>12368.0</td>\n",
       "      <td>0.000000e+00</td>\n",
       "      <td>0.000000</td>\n",
       "      <td>0.000000e+00</td>\n",
       "      <td>0.000000e+00</td>\n",
       "      <td>0.000000e+00</td>\n",
       "      <td>0.000000e+00</td>\n",
       "      <td>0.000000e+00</td>\n",
       "    </tr>\n",
       "    <tr>\n",
       "      <th>std_og_t2o_mou</th>\n",
       "      <td>12368.0</td>\n",
       "      <td>0.000000e+00</td>\n",
       "      <td>0.000000</td>\n",
       "      <td>0.000000e+00</td>\n",
       "      <td>0.000000e+00</td>\n",
       "      <td>0.000000e+00</td>\n",
       "      <td>0.000000e+00</td>\n",
       "      <td>0.000000e+00</td>\n",
       "    </tr>\n",
       "    <tr>\n",
       "      <th>loc_ic_t2o_mou</th>\n",
       "      <td>12368.0</td>\n",
       "      <td>0.000000e+00</td>\n",
       "      <td>0.000000</td>\n",
       "      <td>0.000000e+00</td>\n",
       "      <td>0.000000e+00</td>\n",
       "      <td>0.000000e+00</td>\n",
       "      <td>0.000000e+00</td>\n",
       "      <td>0.000000e+00</td>\n",
       "    </tr>\n",
       "    <tr>\n",
       "      <th>...</th>\n",
       "      <td>...</td>\n",
       "      <td>...</td>\n",
       "      <td>...</td>\n",
       "      <td>...</td>\n",
       "      <td>...</td>\n",
       "      <td>...</td>\n",
       "      <td>...</td>\n",
       "      <td>...</td>\n",
       "    </tr>\n",
       "    <tr>\n",
       "      <th>aug_vbc_3g</th>\n",
       "      <td>12368.0</td>\n",
       "      <td>3.204469e+02</td>\n",
       "      <td>533.741520</td>\n",
       "      <td>0.000000e+00</td>\n",
       "      <td>0.000000e+00</td>\n",
       "      <td>9.886000e+01</td>\n",
       "      <td>4.476650e+02</td>\n",
       "      <td>1.291622e+04</td>\n",
       "    </tr>\n",
       "    <tr>\n",
       "      <th>jul_vbc_3g</th>\n",
       "      <td>12368.0</td>\n",
       "      <td>3.199222e+02</td>\n",
       "      <td>564.027757</td>\n",
       "      <td>0.000000e+00</td>\n",
       "      <td>0.000000e+00</td>\n",
       "      <td>7.596000e+01</td>\n",
       "      <td>4.294350e+02</td>\n",
       "      <td>9.165600e+03</td>\n",
       "    </tr>\n",
       "    <tr>\n",
       "      <th>jun_vbc_3g</th>\n",
       "      <td>12368.0</td>\n",
       "      <td>2.842006e+02</td>\n",
       "      <td>527.442615</td>\n",
       "      <td>0.000000e+00</td>\n",
       "      <td>0.000000e+00</td>\n",
       "      <td>4.893500e+01</td>\n",
       "      <td>3.803950e+02</td>\n",
       "      <td>1.116621e+04</td>\n",
       "    </tr>\n",
       "    <tr>\n",
       "      <th>sep_vbc_3g</th>\n",
       "      <td>12368.0</td>\n",
       "      <td>1.384121e+01</td>\n",
       "      <td>64.689717</td>\n",
       "      <td>0.000000e+00</td>\n",
       "      <td>0.000000e+00</td>\n",
       "      <td>0.000000e+00</td>\n",
       "      <td>0.000000e+00</td>\n",
       "      <td>1.941600e+03</td>\n",
       "    </tr>\n",
       "    <tr>\n",
       "      <th>arp_total</th>\n",
       "      <td>12368.0</td>\n",
       "      <td>1.739150e+03</td>\n",
       "      <td>1376.544078</td>\n",
       "      <td>1.200000e+02</td>\n",
       "      <td>8.368830e+02</td>\n",
       "      <td>1.351985e+03</td>\n",
       "      <td>2.192407e+03</td>\n",
       "      <td>1.626547e+04</td>\n",
       "    </tr>\n",
       "  </tbody>\n",
       "</table>\n",
       "<p>215 rows × 8 columns</p>\n",
       "</div>"
      ],
      "text/plain": [
       "                  count          mean            std           min  \\\n",
       "mobile_number   12368.0  7.001201e+09  682213.916539  7.000000e+09   \n",
       "circle_id       12368.0  1.090000e+02       0.000000  1.090000e+02   \n",
       "loc_og_t2o_mou  12368.0  0.000000e+00       0.000000  0.000000e+00   \n",
       "std_og_t2o_mou  12368.0  0.000000e+00       0.000000  0.000000e+00   \n",
       "loc_ic_t2o_mou  12368.0  0.000000e+00       0.000000  0.000000e+00   \n",
       "...                 ...           ...            ...           ...   \n",
       "aug_vbc_3g      12368.0  3.204469e+02     533.741520  0.000000e+00   \n",
       "jul_vbc_3g      12368.0  3.199222e+02     564.027757  0.000000e+00   \n",
       "jun_vbc_3g      12368.0  2.842006e+02     527.442615  0.000000e+00   \n",
       "sep_vbc_3g      12368.0  1.384121e+01      64.689717  0.000000e+00   \n",
       "arp_total       12368.0  1.739150e+03    1376.544078  1.200000e+02   \n",
       "\n",
       "                         25%           50%           75%           max  \n",
       "mobile_number   7.000617e+09  7.001200e+09  7.001775e+09  7.002410e+09  \n",
       "circle_id       1.090000e+02  1.090000e+02  1.090000e+02  1.090000e+02  \n",
       "loc_og_t2o_mou  0.000000e+00  0.000000e+00  0.000000e+00  0.000000e+00  \n",
       "std_og_t2o_mou  0.000000e+00  0.000000e+00  0.000000e+00  0.000000e+00  \n",
       "loc_ic_t2o_mou  0.000000e+00  0.000000e+00  0.000000e+00  0.000000e+00  \n",
       "...                      ...           ...           ...           ...  \n",
       "aug_vbc_3g      0.000000e+00  9.886000e+01  4.476650e+02  1.291622e+04  \n",
       "jul_vbc_3g      0.000000e+00  7.596000e+01  4.294350e+02  9.165600e+03  \n",
       "jun_vbc_3g      0.000000e+00  4.893500e+01  3.803950e+02  1.116621e+04  \n",
       "sep_vbc_3g      0.000000e+00  0.000000e+00  0.000000e+00  1.941600e+03  \n",
       "arp_total       8.368830e+02  1.351985e+03  2.192407e+03  1.626547e+04  \n",
       "\n",
       "[215 rows x 8 columns]"
      ]
     },
     "execution_count": 104,
     "metadata": {},
     "output_type": "execute_result"
    }
   ],
   "source": [
    "\n",
    "df.describe().T\n"
   ]
  },
  {
   "cell_type": "markdown",
   "id": "58e4d6f7",
   "metadata": {},
   "source": [
    "### Categorical Columns"
   ]
  },
  {
   "cell_type": "code",
   "execution_count": 106,
   "id": "c12724fe",
   "metadata": {},
   "outputs": [
    {
     "data": {
      "text/html": [
       "<div>\n",
       "<style scoped>\n",
       "    .dataframe tbody tr th:only-of-type {\n",
       "        vertical-align: middle;\n",
       "    }\n",
       "\n",
       "    .dataframe tbody tr th {\n",
       "        vertical-align: top;\n",
       "    }\n",
       "\n",
       "    .dataframe thead th {\n",
       "        text-align: right;\n",
       "    }\n",
       "</style>\n",
       "<table border=\"1\" class=\"dataframe\">\n",
       "  <thead>\n",
       "    <tr style=\"text-align: right;\">\n",
       "      <th></th>\n",
       "      <th>last_date_of_month_6</th>\n",
       "      <th>last_date_of_month_7</th>\n",
       "      <th>last_date_of_month_8</th>\n",
       "      <th>last_date_of_month_9</th>\n",
       "      <th>date_of_last_rech_6</th>\n",
       "      <th>date_of_last_rech_7</th>\n",
       "      <th>date_of_last_rech_8</th>\n",
       "      <th>date_of_last_rech_9</th>\n",
       "      <th>date_of_last_rech_data_6</th>\n",
       "      <th>date_of_last_rech_data_7</th>\n",
       "      <th>date_of_last_rech_data_8</th>\n",
       "      <th>date_of_last_rech_data_9</th>\n",
       "      <th>Churn</th>\n",
       "    </tr>\n",
       "  </thead>\n",
       "  <tbody>\n",
       "    <tr>\n",
       "      <th>count</th>\n",
       "      <td>12368</td>\n",
       "      <td>12368</td>\n",
       "      <td>12368</td>\n",
       "      <td>12368</td>\n",
       "      <td>12368</td>\n",
       "      <td>12368</td>\n",
       "      <td>12368</td>\n",
       "      <td>12368</td>\n",
       "      <td>12368</td>\n",
       "      <td>12368</td>\n",
       "      <td>12368</td>\n",
       "      <td>12368</td>\n",
       "      <td>12368</td>\n",
       "    </tr>\n",
       "    <tr>\n",
       "      <th>unique</th>\n",
       "      <td>1</td>\n",
       "      <td>1</td>\n",
       "      <td>1</td>\n",
       "      <td>1</td>\n",
       "      <td>30</td>\n",
       "      <td>30</td>\n",
       "      <td>31</td>\n",
       "      <td>30</td>\n",
       "      <td>30</td>\n",
       "      <td>31</td>\n",
       "      <td>31</td>\n",
       "      <td>30</td>\n",
       "      <td>2</td>\n",
       "    </tr>\n",
       "    <tr>\n",
       "      <th>top</th>\n",
       "      <td>6/30/2014</td>\n",
       "      <td>7/31/2014</td>\n",
       "      <td>8/31/2014</td>\n",
       "      <td>9/30/2014</td>\n",
       "      <td>6/30/2014</td>\n",
       "      <td>7/31/2014</td>\n",
       "      <td>8/31/2014</td>\n",
       "      <td>9/29/2014</td>\n",
       "      <td>6/30/2014</td>\n",
       "      <td>7/31/2014</td>\n",
       "      <td>8/31/2014</td>\n",
       "      <td>9/29/2014</td>\n",
       "      <td>no</td>\n",
       "    </tr>\n",
       "    <tr>\n",
       "      <th>freq</th>\n",
       "      <td>12368</td>\n",
       "      <td>12368</td>\n",
       "      <td>12368</td>\n",
       "      <td>12368</td>\n",
       "      <td>2692</td>\n",
       "      <td>2577</td>\n",
       "      <td>2269</td>\n",
       "      <td>3988</td>\n",
       "      <td>1119</td>\n",
       "      <td>1027</td>\n",
       "      <td>1030</td>\n",
       "      <td>1064</td>\n",
       "      <td>8387</td>\n",
       "    </tr>\n",
       "  </tbody>\n",
       "</table>\n",
       "</div>"
      ],
      "text/plain": [
       "       last_date_of_month_6 last_date_of_month_7 last_date_of_month_8  \\\n",
       "count                 12368                12368                12368   \n",
       "unique                    1                    1                    1   \n",
       "top               6/30/2014            7/31/2014            8/31/2014   \n",
       "freq                  12368                12368                12368   \n",
       "\n",
       "       last_date_of_month_9 date_of_last_rech_6 date_of_last_rech_7  \\\n",
       "count                 12368               12368               12368   \n",
       "unique                    1                  30                  30   \n",
       "top               9/30/2014           6/30/2014           7/31/2014   \n",
       "freq                  12368                2692                2577   \n",
       "\n",
       "       date_of_last_rech_8 date_of_last_rech_9 date_of_last_rech_data_6  \\\n",
       "count                12368               12368                    12368   \n",
       "unique                  31                  30                       30   \n",
       "top              8/31/2014           9/29/2014                6/30/2014   \n",
       "freq                  2269                3988                     1119   \n",
       "\n",
       "       date_of_last_rech_data_7 date_of_last_rech_data_8  \\\n",
       "count                     12368                    12368   \n",
       "unique                       31                       31   \n",
       "top                   7/31/2014                8/31/2014   \n",
       "freq                       1027                     1030   \n",
       "\n",
       "       date_of_last_rech_data_9  Churn  \n",
       "count                     12368  12368  \n",
       "unique                       30      2  \n",
       "top                   9/29/2014     no  \n",
       "freq                       1064   8387  "
      ]
     },
     "execution_count": 106,
     "metadata": {},
     "output_type": "execute_result"
    }
   ],
   "source": [
    "\n",
    "df.describe(include='object')\n"
   ]
  },
  {
   "cell_type": "markdown",
   "id": "bd049fa3",
   "metadata": {},
   "source": [
    "# Pre-Processing of Data"
   ]
  },
  {
   "cell_type": "markdown",
   "id": "ccc521c1",
   "metadata": {},
   "source": [
    "### Correlation Check"
   ]
  },
  {
   "cell_type": "code",
   "execution_count": 107,
   "id": "8374f9a0",
   "metadata": {},
   "outputs": [
    {
     "data": {
      "text/html": [
       "<div>\n",
       "<style scoped>\n",
       "    .dataframe tbody tr th:only-of-type {\n",
       "        vertical-align: middle;\n",
       "    }\n",
       "\n",
       "    .dataframe tbody tr th {\n",
       "        vertical-align: top;\n",
       "    }\n",
       "\n",
       "    .dataframe thead th {\n",
       "        text-align: right;\n",
       "    }\n",
       "</style>\n",
       "<table border=\"1\" class=\"dataframe\">\n",
       "  <thead>\n",
       "    <tr style=\"text-align: right;\">\n",
       "      <th></th>\n",
       "      <th>mobile_number</th>\n",
       "      <th>circle_id</th>\n",
       "      <th>loc_og_t2o_mou</th>\n",
       "      <th>std_og_t2o_mou</th>\n",
       "      <th>loc_ic_t2o_mou</th>\n",
       "      <th>arpu_6</th>\n",
       "      <th>arpu_7</th>\n",
       "      <th>arpu_8</th>\n",
       "      <th>arpu_9</th>\n",
       "      <th>onnet_mou_6</th>\n",
       "      <th>...</th>\n",
       "      <th>fb_user_6</th>\n",
       "      <th>fb_user_7</th>\n",
       "      <th>fb_user_8</th>\n",
       "      <th>fb_user_9</th>\n",
       "      <th>aon</th>\n",
       "      <th>aug_vbc_3g</th>\n",
       "      <th>jul_vbc_3g</th>\n",
       "      <th>jun_vbc_3g</th>\n",
       "      <th>sep_vbc_3g</th>\n",
       "      <th>arp_total</th>\n",
       "    </tr>\n",
       "  </thead>\n",
       "  <tbody>\n",
       "    <tr>\n",
       "      <th>mobile_number</th>\n",
       "      <td>1.000000</td>\n",
       "      <td>NaN</td>\n",
       "      <td>NaN</td>\n",
       "      <td>NaN</td>\n",
       "      <td>NaN</td>\n",
       "      <td>0.069423</td>\n",
       "      <td>0.068913</td>\n",
       "      <td>0.068776</td>\n",
       "      <td>0.069607</td>\n",
       "      <td>0.037109</td>\n",
       "      <td>...</td>\n",
       "      <td>-0.033813</td>\n",
       "      <td>-0.038543</td>\n",
       "      <td>-0.034655</td>\n",
       "      <td>-0.026667</td>\n",
       "      <td>0.334863</td>\n",
       "      <td>-0.031095</td>\n",
       "      <td>-0.019137</td>\n",
       "      <td>-0.034656</td>\n",
       "      <td>-0.005607</td>\n",
       "      <td>0.076278</td>\n",
       "    </tr>\n",
       "    <tr>\n",
       "      <th>circle_id</th>\n",
       "      <td>NaN</td>\n",
       "      <td>NaN</td>\n",
       "      <td>NaN</td>\n",
       "      <td>NaN</td>\n",
       "      <td>NaN</td>\n",
       "      <td>NaN</td>\n",
       "      <td>NaN</td>\n",
       "      <td>NaN</td>\n",
       "      <td>NaN</td>\n",
       "      <td>NaN</td>\n",
       "      <td>...</td>\n",
       "      <td>NaN</td>\n",
       "      <td>NaN</td>\n",
       "      <td>NaN</td>\n",
       "      <td>NaN</td>\n",
       "      <td>NaN</td>\n",
       "      <td>NaN</td>\n",
       "      <td>NaN</td>\n",
       "      <td>NaN</td>\n",
       "      <td>NaN</td>\n",
       "      <td>NaN</td>\n",
       "    </tr>\n",
       "    <tr>\n",
       "      <th>loc_og_t2o_mou</th>\n",
       "      <td>NaN</td>\n",
       "      <td>NaN</td>\n",
       "      <td>NaN</td>\n",
       "      <td>NaN</td>\n",
       "      <td>NaN</td>\n",
       "      <td>NaN</td>\n",
       "      <td>NaN</td>\n",
       "      <td>NaN</td>\n",
       "      <td>NaN</td>\n",
       "      <td>NaN</td>\n",
       "      <td>...</td>\n",
       "      <td>NaN</td>\n",
       "      <td>NaN</td>\n",
       "      <td>NaN</td>\n",
       "      <td>NaN</td>\n",
       "      <td>NaN</td>\n",
       "      <td>NaN</td>\n",
       "      <td>NaN</td>\n",
       "      <td>NaN</td>\n",
       "      <td>NaN</td>\n",
       "      <td>NaN</td>\n",
       "    </tr>\n",
       "    <tr>\n",
       "      <th>std_og_t2o_mou</th>\n",
       "      <td>NaN</td>\n",
       "      <td>NaN</td>\n",
       "      <td>NaN</td>\n",
       "      <td>NaN</td>\n",
       "      <td>NaN</td>\n",
       "      <td>NaN</td>\n",
       "      <td>NaN</td>\n",
       "      <td>NaN</td>\n",
       "      <td>NaN</td>\n",
       "      <td>NaN</td>\n",
       "      <td>...</td>\n",
       "      <td>NaN</td>\n",
       "      <td>NaN</td>\n",
       "      <td>NaN</td>\n",
       "      <td>NaN</td>\n",
       "      <td>NaN</td>\n",
       "      <td>NaN</td>\n",
       "      <td>NaN</td>\n",
       "      <td>NaN</td>\n",
       "      <td>NaN</td>\n",
       "      <td>NaN</td>\n",
       "    </tr>\n",
       "    <tr>\n",
       "      <th>loc_ic_t2o_mou</th>\n",
       "      <td>NaN</td>\n",
       "      <td>NaN</td>\n",
       "      <td>NaN</td>\n",
       "      <td>NaN</td>\n",
       "      <td>NaN</td>\n",
       "      <td>NaN</td>\n",
       "      <td>NaN</td>\n",
       "      <td>NaN</td>\n",
       "      <td>NaN</td>\n",
       "      <td>NaN</td>\n",
       "      <td>...</td>\n",
       "      <td>NaN</td>\n",
       "      <td>NaN</td>\n",
       "      <td>NaN</td>\n",
       "      <td>NaN</td>\n",
       "      <td>NaN</td>\n",
       "      <td>NaN</td>\n",
       "      <td>NaN</td>\n",
       "      <td>NaN</td>\n",
       "      <td>NaN</td>\n",
       "      <td>NaN</td>\n",
       "    </tr>\n",
       "    <tr>\n",
       "      <th>...</th>\n",
       "      <td>...</td>\n",
       "      <td>...</td>\n",
       "      <td>...</td>\n",
       "      <td>...</td>\n",
       "      <td>...</td>\n",
       "      <td>...</td>\n",
       "      <td>...</td>\n",
       "      <td>...</td>\n",
       "      <td>...</td>\n",
       "      <td>...</td>\n",
       "      <td>...</td>\n",
       "      <td>...</td>\n",
       "      <td>...</td>\n",
       "      <td>...</td>\n",
       "      <td>...</td>\n",
       "      <td>...</td>\n",
       "      <td>...</td>\n",
       "      <td>...</td>\n",
       "      <td>...</td>\n",
       "      <td>...</td>\n",
       "      <td>...</td>\n",
       "    </tr>\n",
       "    <tr>\n",
       "      <th>aug_vbc_3g</th>\n",
       "      <td>-0.031095</td>\n",
       "      <td>NaN</td>\n",
       "      <td>NaN</td>\n",
       "      <td>NaN</td>\n",
       "      <td>NaN</td>\n",
       "      <td>0.267181</td>\n",
       "      <td>0.288011</td>\n",
       "      <td>0.316123</td>\n",
       "      <td>0.281441</td>\n",
       "      <td>0.014990</td>\n",
       "      <td>...</td>\n",
       "      <td>0.110008</td>\n",
       "      <td>0.113531</td>\n",
       "      <td>0.117902</td>\n",
       "      <td>0.119372</td>\n",
       "      <td>0.032953</td>\n",
       "      <td>1.000000</td>\n",
       "      <td>0.709292</td>\n",
       "      <td>0.604830</td>\n",
       "      <td>0.201794</td>\n",
       "      <td>0.318159</td>\n",
       "    </tr>\n",
       "    <tr>\n",
       "      <th>jul_vbc_3g</th>\n",
       "      <td>-0.019137</td>\n",
       "      <td>NaN</td>\n",
       "      <td>NaN</td>\n",
       "      <td>NaN</td>\n",
       "      <td>NaN</td>\n",
       "      <td>0.281016</td>\n",
       "      <td>0.333365</td>\n",
       "      <td>0.272959</td>\n",
       "      <td>0.253428</td>\n",
       "      <td>0.014740</td>\n",
       "      <td>...</td>\n",
       "      <td>0.108018</td>\n",
       "      <td>0.112718</td>\n",
       "      <td>0.109063</td>\n",
       "      <td>0.109245</td>\n",
       "      <td>0.038285</td>\n",
       "      <td>0.709292</td>\n",
       "      <td>1.000000</td>\n",
       "      <td>0.685681</td>\n",
       "      <td>0.148911</td>\n",
       "      <td>0.314308</td>\n",
       "    </tr>\n",
       "    <tr>\n",
       "      <th>jun_vbc_3g</th>\n",
       "      <td>-0.034656</td>\n",
       "      <td>NaN</td>\n",
       "      <td>NaN</td>\n",
       "      <td>NaN</td>\n",
       "      <td>NaN</td>\n",
       "      <td>0.329336</td>\n",
       "      <td>0.271685</td>\n",
       "      <td>0.261932</td>\n",
       "      <td>0.249611</td>\n",
       "      <td>0.024287</td>\n",
       "      <td>...</td>\n",
       "      <td>0.108761</td>\n",
       "      <td>0.104571</td>\n",
       "      <td>0.102199</td>\n",
       "      <td>0.102632</td>\n",
       "      <td>0.020723</td>\n",
       "      <td>0.604830</td>\n",
       "      <td>0.685681</td>\n",
       "      <td>1.000000</td>\n",
       "      <td>0.142592</td>\n",
       "      <td>0.305967</td>\n",
       "    </tr>\n",
       "    <tr>\n",
       "      <th>sep_vbc_3g</th>\n",
       "      <td>-0.005607</td>\n",
       "      <td>NaN</td>\n",
       "      <td>NaN</td>\n",
       "      <td>NaN</td>\n",
       "      <td>NaN</td>\n",
       "      <td>0.097340</td>\n",
       "      <td>0.116134</td>\n",
       "      <td>0.136607</td>\n",
       "      <td>0.195434</td>\n",
       "      <td>-0.002290</td>\n",
       "      <td>...</td>\n",
       "      <td>0.027589</td>\n",
       "      <td>0.029793</td>\n",
       "      <td>0.034007</td>\n",
       "      <td>0.043955</td>\n",
       "      <td>-0.006405</td>\n",
       "      <td>0.201794</td>\n",
       "      <td>0.148911</td>\n",
       "      <td>0.142592</td>\n",
       "      <td>1.000000</td>\n",
       "      <td>0.150982</td>\n",
       "    </tr>\n",
       "    <tr>\n",
       "      <th>arp_total</th>\n",
       "      <td>0.076278</td>\n",
       "      <td>NaN</td>\n",
       "      <td>NaN</td>\n",
       "      <td>NaN</td>\n",
       "      <td>NaN</td>\n",
       "      <td>0.888852</td>\n",
       "      <td>0.916435</td>\n",
       "      <td>0.923017</td>\n",
       "      <td>0.898334</td>\n",
       "      <td>0.385615</td>\n",
       "      <td>...</td>\n",
       "      <td>-0.035035</td>\n",
       "      <td>-0.024753</td>\n",
       "      <td>-0.013859</td>\n",
       "      <td>-0.017007</td>\n",
       "      <td>0.109389</td>\n",
       "      <td>0.318159</td>\n",
       "      <td>0.314308</td>\n",
       "      <td>0.305967</td>\n",
       "      <td>0.150982</td>\n",
       "      <td>1.000000</td>\n",
       "    </tr>\n",
       "  </tbody>\n",
       "</table>\n",
       "<p>215 rows × 215 columns</p>\n",
       "</div>"
      ],
      "text/plain": [
       "                mobile_number  circle_id  loc_og_t2o_mou  std_og_t2o_mou  \\\n",
       "mobile_number        1.000000        NaN             NaN             NaN   \n",
       "circle_id                 NaN        NaN             NaN             NaN   \n",
       "loc_og_t2o_mou            NaN        NaN             NaN             NaN   \n",
       "std_og_t2o_mou            NaN        NaN             NaN             NaN   \n",
       "loc_ic_t2o_mou            NaN        NaN             NaN             NaN   \n",
       "...                       ...        ...             ...             ...   \n",
       "aug_vbc_3g          -0.031095        NaN             NaN             NaN   \n",
       "jul_vbc_3g          -0.019137        NaN             NaN             NaN   \n",
       "jun_vbc_3g          -0.034656        NaN             NaN             NaN   \n",
       "sep_vbc_3g          -0.005607        NaN             NaN             NaN   \n",
       "arp_total            0.076278        NaN             NaN             NaN   \n",
       "\n",
       "                loc_ic_t2o_mou    arpu_6    arpu_7    arpu_8    arpu_9  \\\n",
       "mobile_number              NaN  0.069423  0.068913  0.068776  0.069607   \n",
       "circle_id                  NaN       NaN       NaN       NaN       NaN   \n",
       "loc_og_t2o_mou             NaN       NaN       NaN       NaN       NaN   \n",
       "std_og_t2o_mou             NaN       NaN       NaN       NaN       NaN   \n",
       "loc_ic_t2o_mou             NaN       NaN       NaN       NaN       NaN   \n",
       "...                        ...       ...       ...       ...       ...   \n",
       "aug_vbc_3g                 NaN  0.267181  0.288011  0.316123  0.281441   \n",
       "jul_vbc_3g                 NaN  0.281016  0.333365  0.272959  0.253428   \n",
       "jun_vbc_3g                 NaN  0.329336  0.271685  0.261932  0.249611   \n",
       "sep_vbc_3g                 NaN  0.097340  0.116134  0.136607  0.195434   \n",
       "arp_total                  NaN  0.888852  0.916435  0.923017  0.898334   \n",
       "\n",
       "                onnet_mou_6  ...  fb_user_6  fb_user_7  fb_user_8  fb_user_9  \\\n",
       "mobile_number      0.037109  ...  -0.033813  -0.038543  -0.034655  -0.026667   \n",
       "circle_id               NaN  ...        NaN        NaN        NaN        NaN   \n",
       "loc_og_t2o_mou          NaN  ...        NaN        NaN        NaN        NaN   \n",
       "std_og_t2o_mou          NaN  ...        NaN        NaN        NaN        NaN   \n",
       "loc_ic_t2o_mou          NaN  ...        NaN        NaN        NaN        NaN   \n",
       "...                     ...  ...        ...        ...        ...        ...   \n",
       "aug_vbc_3g         0.014990  ...   0.110008   0.113531   0.117902   0.119372   \n",
       "jul_vbc_3g         0.014740  ...   0.108018   0.112718   0.109063   0.109245   \n",
       "jun_vbc_3g         0.024287  ...   0.108761   0.104571   0.102199   0.102632   \n",
       "sep_vbc_3g        -0.002290  ...   0.027589   0.029793   0.034007   0.043955   \n",
       "arp_total          0.385615  ...  -0.035035  -0.024753  -0.013859  -0.017007   \n",
       "\n",
       "                     aon  aug_vbc_3g  jul_vbc_3g  jun_vbc_3g  sep_vbc_3g  \\\n",
       "mobile_number   0.334863   -0.031095   -0.019137   -0.034656   -0.005607   \n",
       "circle_id            NaN         NaN         NaN         NaN         NaN   \n",
       "loc_og_t2o_mou       NaN         NaN         NaN         NaN         NaN   \n",
       "std_og_t2o_mou       NaN         NaN         NaN         NaN         NaN   \n",
       "loc_ic_t2o_mou       NaN         NaN         NaN         NaN         NaN   \n",
       "...                  ...         ...         ...         ...         ...   \n",
       "aug_vbc_3g      0.032953    1.000000    0.709292    0.604830    0.201794   \n",
       "jul_vbc_3g      0.038285    0.709292    1.000000    0.685681    0.148911   \n",
       "jun_vbc_3g      0.020723    0.604830    0.685681    1.000000    0.142592   \n",
       "sep_vbc_3g     -0.006405    0.201794    0.148911    0.142592    1.000000   \n",
       "arp_total       0.109389    0.318159    0.314308    0.305967    0.150982   \n",
       "\n",
       "                arp_total  \n",
       "mobile_number    0.076278  \n",
       "circle_id             NaN  \n",
       "loc_og_t2o_mou        NaN  \n",
       "std_og_t2o_mou        NaN  \n",
       "loc_ic_t2o_mou        NaN  \n",
       "...                   ...  \n",
       "aug_vbc_3g       0.318159  \n",
       "jul_vbc_3g       0.314308  \n",
       "jun_vbc_3g       0.305967  \n",
       "sep_vbc_3g       0.150982  \n",
       "arp_total        1.000000  \n",
       "\n",
       "[215 rows x 215 columns]"
      ]
     },
     "execution_count": 107,
     "metadata": {},
     "output_type": "execute_result"
    }
   ],
   "source": [
    "\n",
    "df.corr()\n"
   ]
  },
  {
   "cell_type": "code",
   "execution_count": 118,
   "id": "242820a7",
   "metadata": {},
   "outputs": [],
   "source": [
    "from sklearn.model_selection import train_test_split"
   ]
  },
  {
   "cell_type": "code",
   "execution_count": 119,
   "id": "f2eaf152",
   "metadata": {},
   "outputs": [
    {
     "name": "stdout",
     "output_type": "stream",
     "text": [
      "Shape of x_train and y_train:  (11131, 228) (11131,)\n",
      "Shape of x_test and y_test:  (1237, 228) (1237,)\n"
     ]
    }
   ],
   "source": [
    "df.Churn.replace(['yes','no'],[1,0],inplace=True)\n",
    "Y = df['Churn']\n",
    "X = df.drop('Churn', axis=1)\n",
    "x_train,x_test,y_train,y_test = train_test_split(X,Y,test_size=0.10,stratify=Y,random_state=11)\n",
    "print('Shape of x_train and y_train: ',x_train.shape, y_train.shape)\n",
    "print('Shape of x_test and y_test: ',x_test.shape, y_test.shape)\n"
   ]
  },
  {
   "cell_type": "markdown",
   "id": "a51b62e7",
   "metadata": {},
   "source": [
    "\n",
    "No two columns show a correlation greater than 0.75. So as theoretically suggested, we are good to go here.\n"
   ]
  },
  {
   "cell_type": "markdown",
   "id": "42e2c555",
   "metadata": {},
   "source": [
    "### Insights: \n",
    "\n",
    "1. Chances of a non-active member churning out is double the chances of an active member churning out. Company needs to  check with the customers for being inactive , give them some offers plan.\n",
    "\n",
    "2. Majority of the customers that churned in the month of september\n"
   ]
  },
  {
   "cell_type": "markdown",
   "id": "b7b15131",
   "metadata": {},
   "source": [
    "#### Insights: Probability of customers having zero balance churning out is maximum.Many people keep 0 balance no matter how high or low their estimated salary is."
   ]
  },
  {
   "cell_type": "code",
   "execution_count": 144,
   "id": "a1c8e21b",
   "metadata": {},
   "outputs": [],
   "source": [
    "from sklearn import svm\n",
    "from sklearn.svm import SVC\n",
    "from sklearn.model_selection import GridSearchCV\n",
    "from sklearn.preprocessing import StandardScaler"
   ]
  },
  {
   "cell_type": "code",
   "execution_count": 228,
   "id": "5bd3eae2",
   "metadata": {},
   "outputs": [],
   "source": [
    "from numpy import hstack\n",
    "from sklearn.model_selection import train_test_split  "
   ]
  },
  {
   "cell_type": "code",
   "execution_count": 231,
   "id": "997cf0ae",
   "metadata": {},
   "outputs": [
    {
     "ename": "NameError",
     "evalue": "name 'isd_ic_mou_9' is not defined",
     "output_type": "error",
     "traceback": [
      "\u001b[1;31m---------------------------------------------------------------------------\u001b[0m",
      "\u001b[1;31mNameError\u001b[0m                                 Traceback (most recent call last)",
      "Input \u001b[1;32mIn [231]\u001b[0m, in \u001b[0;36m<cell line: 10>\u001b[1;34m()\u001b[0m\n\u001b[0;32m      7\u001b[0m train_numerical_scaled \u001b[38;5;241m=\u001b[39m scaler\u001b[38;5;241m.\u001b[39mfit_transform(train_numerical)\n\u001b[0;32m      8\u001b[0m test_numerical_scaled \u001b[38;5;241m=\u001b[39m scaler\u001b[38;5;241m.\u001b[39mfit_transform(test_numerical)\n\u001b[1;32m---> 10\u001b[0m x_train_merged \u001b[38;5;241m=\u001b[39m hstack((\u001b[43misd_ic_mou_9\u001b[49m,train_arpu_9, train_aon,train_circle_id,train_std_og_t2o_mou, train_loc_ic_t2o_mou))\n\u001b[0;32m     12\u001b[0m x_test_merged \u001b[38;5;241m=\u001b[39m hstack((test_isd_ic_mou_9,test_arpu_9,test_aon, test_circle_id,test_std_og_t2o_mou,train_loc_ic_t2o_mou))\n\u001b[0;32m     14\u001b[0m \u001b[38;5;66;03m# list of all features\u001b[39;00m\n",
      "\u001b[1;31mNameError\u001b[0m: name 'isd_ic_mou_9' is not defined"
     ]
    }
   ],
   "source": [
    "\n",
    "numerical_fea=['isd_ic_mou_9','isd_ic_mou_9','std_og_t2o_mou','loc_ic_t2o_mou','circle_id','aon','arpu_9','onnet_mou_9','offnet_mou_9','roam_ic_mou_9','roam_og_mou_9', 'loc_og_t2t_mou_9','loc_og_t2m_mou_9','loc_og_t2f_mou_9','loc_og_t2f_mou_9','loc_og_t2c_mou_9','loc_og_mou_9','last_day_rch_amt_9']\n",
    "\n",
    "train_numerical = x_train[numerical_fea]\n",
    "test_numerical = x_test[numerical_fea]\n",
    "# Scaling the data using sklearn's Standard scaler\n",
    "scaler = StandardScaler()\n",
    "train_numerical_scaled = scaler.fit_transform(train_numerical)\n",
    "test_numerical_scaled = scaler.fit_transform(test_numerical)\n",
    "\n",
    "x_train_merged = hstack((isd_ic_mou_9,train_arpu_9, train_aon,train_circle_id,train_std_og_t2o_mou, train_loc_ic_t2o_mou))\n",
    "\n",
    "x_test_merged = hstack((test_isd_ic_mou_9,test_arpu_9,test_aon, test_circle_id,test_std_og_t2o_mou,train_loc_ic_t2o_mou))\n",
    "\n",
    "# list of all features\n",
    "all_features = isd_ic_mou_9_fea + arpu_9_fea + aon_fea + circle_id_fea + std_og_t2o_mou_fea+ loc_ic_t2o_mou_fea"
   ]
  },
  {
   "cell_type": "code",
   "execution_count": 155,
   "id": "3af7f777",
   "metadata": {},
   "outputs": [
    {
     "ename": "NameError",
     "evalue": "name 'x_train_merged' is not defined",
     "output_type": "error",
     "traceback": [
      "\u001b[1;31m---------------------------------------------------------------------------\u001b[0m",
      "\u001b[1;31mNameError\u001b[0m                                 Traceback (most recent call last)",
      "Input \u001b[1;32mIn [155]\u001b[0m, in \u001b[0;36m<cell line: 5>\u001b[1;34m()\u001b[0m\n\u001b[0;32m      3\u001b[0m svm_clf \u001b[38;5;241m=\u001b[39m SVC(random_state\u001b[38;5;241m=\u001b[39m\u001b[38;5;241m43\u001b[39m) \n\u001b[0;32m      4\u001b[0m grid \u001b[38;5;241m=\u001b[39m GridSearchCV(estimator\u001b[38;5;241m=\u001b[39msvm_clf, param_grid\u001b[38;5;241m=\u001b[39mparameters,scoring\u001b[38;5;241m=\u001b[39m\u001b[38;5;124m'\u001b[39m\u001b[38;5;124maccuracy\u001b[39m\u001b[38;5;124m'\u001b[39m,return_train_score\u001b[38;5;241m=\u001b[39m\u001b[38;5;28;01mTrue\u001b[39;00m,verbose\u001b[38;5;241m=\u001b[39m\u001b[38;5;241m1\u001b[39m) \n\u001b[1;32m----> 5\u001b[0m grid\u001b[38;5;241m.\u001b[39mfit(\u001b[43mx_train_merged\u001b[49m,y_train)  \n\u001b[0;32m      6\u001b[0m cv_result \u001b[38;5;241m=\u001b[39m pd\u001b[38;5;241m.\u001b[39mDataFrame(grid\u001b[38;5;241m.\u001b[39mcv_results_)\n\u001b[0;32m      7\u001b[0m plt\u001b[38;5;241m.\u001b[39mscatter(cv_result[\u001b[38;5;124m'\u001b[39m\u001b[38;5;124mparam_C\u001b[39m\u001b[38;5;124m'\u001b[39m],cv_result[\u001b[38;5;124m'\u001b[39m\u001b[38;5;124mmean_train_score\u001b[39m\u001b[38;5;124m'\u001b[39m])\n",
      "\u001b[1;31mNameError\u001b[0m: name 'x_train_merged' is not defined"
     ]
    }
   ],
   "source": [
    "# Grid Search To Get Best Hyperparameters \n",
    "parameters = {'C':[0.01,0.1,1,3,5,10]} \n",
    "svm_clf = SVC(random_state=43) \n",
    "grid = GridSearchCV(estimator=svm_clf, param_grid=parameters,scoring='accuracy',return_train_score=True,verbose=1) \n",
    "grid.fit(x_train_merged,y_train)  \n",
    "cv_result = pd.DataFrame(grid.cv_results_)\n",
    "plt.scatter(cv_result['param_C'],cv_result['mean_train_score'])\n",
    "plt.plot(cv_result['param_C'],cv_result['mean_train_score'],label='Train')\n",
    "plt.scatter(cv_result['param_C'],cv_result['mean_test_score'])\n",
    "plt.plot(cv_result['param_C'],cv_result['mean_test_score'],label=\"CV\") \n",
    "plt.title('Hyperparameter vs accuracy') \n",
    "plt.legend() \n",
    "plt.xlabel('C') \n",
    "plt.ylabel('Accuracy') \n",
    "plt.show()\n"
   ]
  },
  {
   "cell_type": "markdown",
   "id": "07bb98e1",
   "metadata": {},
   "source": [
    "#### Insight: Maximum customers who churned out have used 1 product only (14% out of total 20%). Maybe bank needs to focus on convincing customers to use more of their services and products."
   ]
  },
  {
   "cell_type": "code",
   "execution_count": 166,
   "id": "35e264ee",
   "metadata": {},
   "outputs": [
    {
     "data": {
      "image/png": "[encoded data removed]",
      "text/plain": [
       "<Figure size 1296x432 with 1 Axes>"
      ]
     },
     "metadata": {
      "needs_background": "light"
     },
     "output_type": "display_data"
    }
   ],
   "source": [
    "\n",
    "plt.figure(figsize=(18,6))\n",
    "sns.histplot(data=df,x='aon',bins=20)\n",
    "plt.show()\n"
   ]
  },
  {
   "cell_type": "markdown",
   "id": "d95d35e7",
   "metadata": {},
   "source": [
    "#### There is a significant difference in the aon distribution between retained and churned customers."
   ]
  },
  {
   "cell_type": "code",
   "execution_count": null,
   "id": "4e78fed4",
   "metadata": {},
   "outputs": [],
   "source": [
    "\n",
    "# Drop the columns formed for EDA as it's no longer needed. Also drop age and keep logarithmic values instead(age1)\n",
    "\n",
    "df.drop(columns=['SalaryRange','AgeGroup','Age'],inplace=True)\n"
   ]
  },
  {
   "cell_type": "markdown",
   "id": "d2a5c354",
   "metadata": {},
   "source": [
    "### 80 percent of the data belongs to retained class .It is Imbalanced data .\n",
    "### Solution : Use SMOTE to handle this or the Precision -Recall curve should be used not accuracy ."
   ]
  },
  {
   "cell_type": "markdown",
   "id": "7753cec8",
   "metadata": {},
   "source": [
    "# Predictive Behaviour Modeling"
   ]
  },
  {
   "cell_type": "markdown",
   "id": "aebc225d",
   "metadata": {},
   "source": [
    "### About 32% of the customers have churned. We need to ensure that the chosen model does predict with great accuracy this 32% as it is of interest to the bank to identify and keep this bunch as opposed to accurately predicting the customers that are retained."
   ]
  },
  {
   "cell_type": "code",
   "execution_count": 168,
   "id": "f1137de3",
   "metadata": {},
   "outputs": [],
   "source": [
    "\n",
    "from sklearn.model_selection import  train_test_split\n",
    "from sklearn.compose import ColumnTransformer\n",
    "from sklearn.preprocessing import OneHotEncoder,StandardScaler,MinMaxScaler\n",
    "from sklearn.linear_model import LogisticRegression\n",
    "\n",
    "from sklearn.datasets import make_classification\n"
   ]
  },
  {
   "cell_type": "code",
   "execution_count": 170,
   "id": "483d66ea",
   "metadata": {},
   "outputs": [
    {
     "name": "stdout",
     "output_type": "stream",
     "text": [
      "Shape of X_train: (9894, 228)\n",
      "Shape of X_test: (2474, 228)\n"
     ]
    }
   ],
   "source": [
    "\n",
    "x = df.drop(columns=['Churn'])\n",
    "y  = df['Exited']\n",
    "\n",
    "x_train, x_test, y_train, y_test = train_test_split(x, y, test_size=0.2,random_state=52)\n",
    "print(\"Shape of X_train:\" ,x_train.shape)\n",
    "print(\"Shape of X_test:\" ,x_test.shape)\n"
   ]
  },
  {
   "cell_type": "code",
   "execution_count": 171,
   "id": "b437321e",
   "metadata": {},
   "outputs": [
    {
     "data": {
      "text/plain": [
       "{0: 6721, 1: 3173}"
      ]
     },
     "execution_count": 171,
     "metadata": {},
     "output_type": "execute_result"
    }
   ],
   "source": [
    "\n",
    "unique, count = np.unique(y_train ,return_counts= True)\n",
    "target_org_valuecount= {k:v for (k,v) in zip (unique,count)}\n",
    "target_org_valuecount\n"
   ]
  },
  {
   "cell_type": "code",
   "execution_count": 172,
   "id": "d1697537",
   "metadata": {},
   "outputs": [
    {
     "data": {
      "text/html": [
       "<div>\n",
       "<style scoped>\n",
       "    .dataframe tbody tr th:only-of-type {\n",
       "        vertical-align: middle;\n",
       "    }\n",
       "\n",
       "    .dataframe tbody tr th {\n",
       "        vertical-align: top;\n",
       "    }\n",
       "\n",
       "    .dataframe thead th {\n",
       "        text-align: right;\n",
       "    }\n",
       "</style>\n",
       "<table border=\"1\" class=\"dataframe\">\n",
       "  <thead>\n",
       "    <tr style=\"text-align: right;\">\n",
       "      <th></th>\n",
       "      <th>mobile_number</th>\n",
       "      <th>circle_id</th>\n",
       "      <th>loc_og_t2o_mou</th>\n",
       "      <th>std_og_t2o_mou</th>\n",
       "      <th>loc_ic_t2o_mou</th>\n",
       "      <th>last_date_of_month_6</th>\n",
       "      <th>last_date_of_month_7</th>\n",
       "      <th>last_date_of_month_8</th>\n",
       "      <th>last_date_of_month_9</th>\n",
       "      <th>arpu_6</th>\n",
       "      <th>...</th>\n",
       "      <th>fb_user_7</th>\n",
       "      <th>fb_user_8</th>\n",
       "      <th>fb_user_9</th>\n",
       "      <th>aon</th>\n",
       "      <th>aug_vbc_3g</th>\n",
       "      <th>jul_vbc_3g</th>\n",
       "      <th>jun_vbc_3g</th>\n",
       "      <th>sep_vbc_3g</th>\n",
       "      <th>arp_total</th>\n",
       "      <th>isd_ic_total</th>\n",
       "    </tr>\n",
       "  </thead>\n",
       "  <tbody>\n",
       "    <tr>\n",
       "      <th>60919</th>\n",
       "      <td>7001230833</td>\n",
       "      <td>109</td>\n",
       "      <td>0.0</td>\n",
       "      <td>0.0</td>\n",
       "      <td>0.0</td>\n",
       "      <td>6/30/2014</td>\n",
       "      <td>7/31/2014</td>\n",
       "      <td>8/31/2014</td>\n",
       "      <td>9/30/2014</td>\n",
       "      <td>1018.348</td>\n",
       "      <td>...</td>\n",
       "      <td>1.0</td>\n",
       "      <td>1.0</td>\n",
       "      <td>1.0</td>\n",
       "      <td>916</td>\n",
       "      <td>343.80</td>\n",
       "      <td>1449.08</td>\n",
       "      <td>1342.55</td>\n",
       "      <td>0.00</td>\n",
       "      <td>2302.696</td>\n",
       "      <td>0.00</td>\n",
       "    </tr>\n",
       "    <tr>\n",
       "      <th>50791</th>\n",
       "      <td>7001901945</td>\n",
       "      <td>109</td>\n",
       "      <td>0.0</td>\n",
       "      <td>0.0</td>\n",
       "      <td>0.0</td>\n",
       "      <td>6/30/2014</td>\n",
       "      <td>7/31/2014</td>\n",
       "      <td>8/31/2014</td>\n",
       "      <td>9/30/2014</td>\n",
       "      <td>704.374</td>\n",
       "      <td>...</td>\n",
       "      <td>1.0</td>\n",
       "      <td>1.0</td>\n",
       "      <td>1.0</td>\n",
       "      <td>1241</td>\n",
       "      <td>797.35</td>\n",
       "      <td>1148.78</td>\n",
       "      <td>971.96</td>\n",
       "      <td>56.62</td>\n",
       "      <td>2407.095</td>\n",
       "      <td>0.00</td>\n",
       "    </tr>\n",
       "    <tr>\n",
       "      <th>58512</th>\n",
       "      <td>7000173763</td>\n",
       "      <td>109</td>\n",
       "      <td>0.0</td>\n",
       "      <td>0.0</td>\n",
       "      <td>0.0</td>\n",
       "      <td>6/30/2014</td>\n",
       "      <td>7/31/2014</td>\n",
       "      <td>8/31/2014</td>\n",
       "      <td>9/30/2014</td>\n",
       "      <td>42.782</td>\n",
       "      <td>...</td>\n",
       "      <td>1.0</td>\n",
       "      <td>1.0</td>\n",
       "      <td>1.0</td>\n",
       "      <td>772</td>\n",
       "      <td>0.00</td>\n",
       "      <td>0.00</td>\n",
       "      <td>0.00</td>\n",
       "      <td>0.00</td>\n",
       "      <td>200.349</td>\n",
       "      <td>0.00</td>\n",
       "    </tr>\n",
       "    <tr>\n",
       "      <th>30037</th>\n",
       "      <td>7001410181</td>\n",
       "      <td>109</td>\n",
       "      <td>0.0</td>\n",
       "      <td>0.0</td>\n",
       "      <td>0.0</td>\n",
       "      <td>6/30/2014</td>\n",
       "      <td>7/31/2014</td>\n",
       "      <td>8/31/2014</td>\n",
       "      <td>9/30/2014</td>\n",
       "      <td>1212.685</td>\n",
       "      <td>...</td>\n",
       "      <td>1.0</td>\n",
       "      <td>1.0</td>\n",
       "      <td>1.0</td>\n",
       "      <td>3174</td>\n",
       "      <td>589.03</td>\n",
       "      <td>123.12</td>\n",
       "      <td>494.68</td>\n",
       "      <td>30.83</td>\n",
       "      <td>4978.604</td>\n",
       "      <td>0.01</td>\n",
       "    </tr>\n",
       "    <tr>\n",
       "      <th>97344</th>\n",
       "      <td>7000906001</td>\n",
       "      <td>109</td>\n",
       "      <td>0.0</td>\n",
       "      <td>0.0</td>\n",
       "      <td>0.0</td>\n",
       "      <td>6/30/2014</td>\n",
       "      <td>7/31/2014</td>\n",
       "      <td>8/31/2014</td>\n",
       "      <td>9/30/2014</td>\n",
       "      <td>386.307</td>\n",
       "      <td>...</td>\n",
       "      <td>1.0</td>\n",
       "      <td>1.0</td>\n",
       "      <td>1.0</td>\n",
       "      <td>439</td>\n",
       "      <td>312.11</td>\n",
       "      <td>292.52</td>\n",
       "      <td>152.89</td>\n",
       "      <td>26.41</td>\n",
       "      <td>2790.100</td>\n",
       "      <td>0.00</td>\n",
       "    </tr>\n",
       "  </tbody>\n",
       "</table>\n",
       "<p>5 rows × 228 columns</p>\n",
       "</div>"
      ],
      "text/plain": [
       "       mobile_number  circle_id  loc_og_t2o_mou  std_og_t2o_mou  \\\n",
       "60919     7001230833        109             0.0             0.0   \n",
       "50791     7001901945        109             0.0             0.0   \n",
       "58512     7000173763        109             0.0             0.0   \n",
       "30037     7001410181        109             0.0             0.0   \n",
       "97344     7000906001        109             0.0             0.0   \n",
       "\n",
       "       loc_ic_t2o_mou last_date_of_month_6 last_date_of_month_7  \\\n",
       "60919             0.0            6/30/2014            7/31/2014   \n",
       "50791             0.0            6/30/2014            7/31/2014   \n",
       "58512             0.0            6/30/2014            7/31/2014   \n",
       "30037             0.0            6/30/2014            7/31/2014   \n",
       "97344             0.0            6/30/2014            7/31/2014   \n",
       "\n",
       "      last_date_of_month_8 last_date_of_month_9    arpu_6  ...  fb_user_7  \\\n",
       "60919            8/31/2014            9/30/2014  1018.348  ...        1.0   \n",
       "50791            8/31/2014            9/30/2014   704.374  ...        1.0   \n",
       "58512            8/31/2014            9/30/2014    42.782  ...        1.0   \n",
       "30037            8/31/2014            9/30/2014  1212.685  ...        1.0   \n",
       "97344            8/31/2014            9/30/2014   386.307  ...        1.0   \n",
       "\n",
       "       fb_user_8  fb_user_9   aon  aug_vbc_3g  jul_vbc_3g  jun_vbc_3g  \\\n",
       "60919        1.0        1.0   916      343.80     1449.08     1342.55   \n",
       "50791        1.0        1.0  1241      797.35     1148.78      971.96   \n",
       "58512        1.0        1.0   772        0.00        0.00        0.00   \n",
       "30037        1.0        1.0  3174      589.03      123.12      494.68   \n",
       "97344        1.0        1.0   439      312.11      292.52      152.89   \n",
       "\n",
       "       sep_vbc_3g  arp_total  isd_ic_total  \n",
       "60919        0.00   2302.696          0.00  \n",
       "50791       56.62   2407.095          0.00  \n",
       "58512        0.00    200.349          0.00  \n",
       "30037       30.83   4978.604          0.01  \n",
       "97344       26.41   2790.100          0.00  \n",
       "\n",
       "[5 rows x 228 columns]"
      ]
     },
     "execution_count": 172,
     "metadata": {},
     "output_type": "execute_result"
    }
   ],
   "source": [
    "\n",
    "x_test.head()\n"
   ]
  },
  {
   "cell_type": "markdown",
   "id": "57beb94a",
   "metadata": {},
   "source": [
    "## Encoding and Scaling"
   ]
  },
  {
   "cell_type": "code",
   "execution_count": 174,
   "id": "da3d48c6",
   "metadata": {},
   "outputs": [],
   "source": [
    "categorical_cols=['Churn']\n",
    "# Bundle preprocessing for numerical and categorical data\n",
    "preprocessor = ColumnTransformer(\n",
    "    transformers=[('cat', OneHotEncoder(), categorical_cols)])\n"
   ]
  },
  {
   "cell_type": "markdown",
   "id": "d46abede",
   "metadata": {},
   "source": [
    "## SMOTE"
   ]
  },
  {
   "cell_type": "code",
   "execution_count": 177,
   "id": "e5bb849a",
   "metadata": {},
   "outputs": [
    {
     "name": "stdout",
     "output_type": "stream",
     "text": [
      "Collecting imblearn\n",
      "  Downloading imblearn-0.0-py2.py3-none-any.whl (1.9 kB)\n",
      "^CCollecting imbalanced-learn\n",
      "  Downloading imbalanced_learn-0.10.1-py3-none-any.whl (226 kB)\n",
      "Requirement already satisfied: numpy>=1.17.3 in c:\\users\\samiksha nayak\\anaconda3\\lib\\site-packages (from imbalanced-learn->imblearn) (1.21.5)\n",
      "Requirement already satisfied: threadpoolctl>=2.0.0 in c:\\users\\samiksha nayak\\anaconda3\\lib\\site-packages (from imbalanced-learn->imblearn) (2.2.0)\n",
      "Requirement already satisfied: scipy>=1.3.2 in c:\\users\\samiksha nayak\\anaconda3\\lib\\site-packages (from imbalanced-learn->imblearn) (1.7.3)\n",
      "Collecting joblib>=1.1.1\n",
      "  Downloading joblib-1.2.0-py3-none-any.whl (297 kB)\n",
      "Requirement already satisfied: scikit-learn>=1.0.2 in c:\\users\\samiksha nayak\\anaconda3\\lib\\site-packages (from imbalanced-learn->imblearn) (1.0.2)\n",
      "Installing collected packages: joblib, imbalanced-learn, imblearn\n",
      "  Attempting uninstall: joblib\n",
      "    Found existing installation: joblib 1.1.0\n",
      "    Uninstalling joblib-1.1.0:\n",
      "      Successfully uninstalled joblib-1.1.0\n",
      "Successfully installed imbalanced-learn-0.10.1 imblearn-0.0 joblib-1.2.0\n",
      "\n"
     ]
    }
   ],
   "source": [
    "!pip install imblearn\n"
   ]
  },
  {
   "cell_type": "code",
   "execution_count": 219,
   "id": "7f27c585",
   "metadata": {},
   "outputs": [],
   "source": [
    "import imblearn\n",
    "from imblearn.over_sampling import SMOTE\n",
    "\n",
    "smt = SMOTE(random_state=2000)\n",
    "from sklearn.pipeline import Pipeline\n",
    "from sklearn.decomposition import PCA\n",
    "import logging"
   ]
  },
  {
   "cell_type": "markdown",
   "id": "48306113",
   "metadata": {},
   "source": [
    "# Logistic Model"
   ]
  },
  {
   "cell_type": "code",
   "execution_count": 179,
   "id": "fc867b83",
   "metadata": {},
   "outputs": [],
   "source": [
    "\n",
    "logmodel=LogisticRegression()\n"
   ]
  },
  {
   "cell_type": "markdown",
   "id": "a9f1da7c",
   "metadata": {},
   "source": [
    "## Pipeline"
   ]
  },
  {
   "cell_type": "code",
   "execution_count": 233,
   "id": "8b6a4f66",
   "metadata": {
    "scrolled": true
   },
   "outputs": [
    {
     "ename": "NameError",
     "evalue": "name 'x_train_merged' is not defined",
     "output_type": "error",
     "traceback": [
      "\u001b[1;31m---------------------------------------------------------------------------\u001b[0m",
      "\u001b[1;31mNameError\u001b[0m                                 Traceback (most recent call last)",
      "Input \u001b[1;32mIn [233]\u001b[0m, in \u001b[0;36m<cell line: 3>\u001b[1;34m()\u001b[0m\n\u001b[0;32m      1\u001b[0m \u001b[38;5;28;01mfrom\u001b[39;00m \u001b[38;5;21;01msklearn\u001b[39;00m\u001b[38;5;21;01m.\u001b[39;00m\u001b[38;5;21;01mensemble\u001b[39;00m \u001b[38;5;28;01mimport\u001b[39;00m ExtraTreesClassifier\n\u001b[0;32m      2\u001b[0m m \u001b[38;5;241m=\u001b[39m ExtraTreesClassifier(n_estimators \u001b[38;5;241m=\u001b[39m \u001b[38;5;241m10\u001b[39m)\n\u001b[1;32m----> 3\u001b[0m m\u001b[38;5;241m.\u001b[39mfit(\u001b[43mx_train_merged\u001b[49m,\n\u001b[0;32m      4\u001b[0m       y_train_merged)\n\u001b[0;32m      5\u001b[0m sel \u001b[38;5;241m=\u001b[39m SelectFromModel(m, prefit\u001b[38;5;241m=\u001b[39m\u001b[38;5;28;01mTrue\u001b[39;00m)\n\u001b[0;32m      6\u001b[0m X_new \u001b[38;5;241m=\u001b[39m sel\u001b[38;5;241m.\u001b[39mtransform(x_train_merged)\n",
      "\u001b[1;31mNameError\u001b[0m: name 'x_train_merged' is not defined"
     ]
    }
   ],
   "source": [
    "from sklearn.ensemble import ExtraTreesClassifier\n",
    "m = ExtraTreesClassifier(n_estimators = 10)\n",
    "m.fit(x_train_merged,\n",
    "      y_train_merged)\n",
    "sel = SelectFromModel(m, prefit=True)\n",
    "X_new = sel.transform(x_train_merged)\n",
    "clf = RandomForestClassifier(5000)\n",
    "\n",
    "pipe = Pipeline([('m', m),('sel', sel),('X_new', X_new),('clf', clf),])\n",
    "params = {'clf__max_features': ['auto', 'sqrt', 'log2']}\n",
    "\n",
    "gs = GridSearchCV(model, params)\n",
    "gs.fit(x_train_merged,\n",
    "      y_train_merged)"
   ]
  },
  {
   "cell_type": "code",
   "execution_count": 227,
   "id": "68407453",
   "metadata": {},
   "outputs": [
    {
     "ename": "NameError",
     "evalue": "name 'pipe' is not defined",
     "output_type": "error",
     "traceback": [
      "\u001b[1;31m---------------------------------------------------------------------------\u001b[0m",
      "\u001b[1;31mNameError\u001b[0m                                 Traceback (most recent call last)",
      "Input \u001b[1;32mIn [227]\u001b[0m, in \u001b[0;36m<cell line: 1>\u001b[1;34m()\u001b[0m\n\u001b[1;32m----> 1\u001b[0m y_predicted \u001b[38;5;241m=\u001b[39m \u001b[43mpipe\u001b[49m\u001b[38;5;241m.\u001b[39mpredict(x_test_merged)\n",
      "\u001b[1;31mNameError\u001b[0m: name 'pipe' is not defined"
     ]
    }
   ],
   "source": [
    "\n",
    "y_predicted = pipe.predict(x_test_merged)\n"
   ]
  },
  {
   "cell_type": "code",
   "execution_count": 187,
   "id": "ea66e201",
   "metadata": {},
   "outputs": [
    {
     "ename": "NameError",
     "evalue": "name 'y_predicted' is not defined",
     "output_type": "error",
     "traceback": [
      "\u001b[1;31m---------------------------------------------------------------------------\u001b[0m",
      "\u001b[1;31mNameError\u001b[0m                                 Traceback (most recent call last)",
      "Input \u001b[1;32mIn [187]\u001b[0m, in \u001b[0;36m<cell line: 1>\u001b[1;34m()\u001b[0m\n\u001b[1;32m----> 1\u001b[0m \u001b[43my_predicted\u001b[49m\n",
      "\u001b[1;31mNameError\u001b[0m: name 'y_predicted' is not defined"
     ]
    }
   ],
   "source": [
    "\n",
    "y_predicted\n"
   ]
  },
  {
   "cell_type": "code",
   "execution_count": 188,
   "id": "38f46387",
   "metadata": {},
   "outputs": [
    {
     "ename": "NameError",
     "evalue": "name 'y_predicted' is not defined",
     "output_type": "error",
     "traceback": [
      "\u001b[1;31m---------------------------------------------------------------------------\u001b[0m",
      "\u001b[1;31mNameError\u001b[0m                                 Traceback (most recent call last)",
      "Input \u001b[1;32mIn [188]\u001b[0m, in \u001b[0;36m<cell line: 2>\u001b[1;34m()\u001b[0m\n\u001b[0;32m      1\u001b[0m \u001b[38;5;28;01mfrom\u001b[39;00m \u001b[38;5;21;01msklearn\u001b[39;00m\u001b[38;5;21;01m.\u001b[39;00m\u001b[38;5;21;01mmetrics\u001b[39;00m \u001b[38;5;28;01mimport\u001b[39;00m classification_report\n\u001b[1;32m----> 2\u001b[0m \u001b[38;5;28mprint\u001b[39m(classification_report(y_test,\u001b[43my_predicted\u001b[49m))\n",
      "\u001b[1;31mNameError\u001b[0m: name 'y_predicted' is not defined"
     ]
    }
   ],
   "source": [
    "\n",
    "from sklearn.metrics import classification_report\n",
    "print(classification_report(y_test,y_predicted))\n"
   ]
  },
  {
   "cell_type": "code",
   "execution_count": 189,
   "id": "a2e3c7c3",
   "metadata": {},
   "outputs": [
    {
     "ename": "NameError",
     "evalue": "name 'pipe' is not defined",
     "output_type": "error",
     "traceback": [
      "\u001b[1;31m---------------------------------------------------------------------------\u001b[0m",
      "\u001b[1;31mNameError\u001b[0m                                 Traceback (most recent call last)",
      "Input \u001b[1;32mIn [189]\u001b[0m, in \u001b[0;36m<cell line: 7>\u001b[1;34m()\u001b[0m\n\u001b[0;32m      4\u001b[0m \u001b[38;5;28;01mfrom\u001b[39;00m \u001b[38;5;21;01msklearn\u001b[39;00m\u001b[38;5;21;01m.\u001b[39;00m\u001b[38;5;21;01mmetrics\u001b[39;00m \u001b[38;5;28;01mimport\u001b[39;00m f1_score\n\u001b[0;32m      6\u001b[0m \u001b[38;5;28;01mfrom\u001b[39;00m \u001b[38;5;21;01msklearn\u001b[39;00m\u001b[38;5;21;01m.\u001b[39;00m\u001b[38;5;21;01mmetrics\u001b[39;00m \u001b[38;5;28;01mimport\u001b[39;00m mean_squared_error \u001b[38;5;28;01mas\u001b[39;00m MSE\n\u001b[1;32m----> 7\u001b[0m \u001b[38;5;28mprint\u001b[39m(\u001b[38;5;124m\"\u001b[39m\u001b[38;5;124mTraining score: \u001b[39m\u001b[38;5;124m\"\u001b[39m,\u001b[43mpipe\u001b[49m\u001b[38;5;241m.\u001b[39mscore(x_train, y_train))\n\u001b[0;32m      9\u001b[0m \u001b[38;5;28mprint\u001b[39m(\u001b[38;5;124m\"\u001b[39m\u001b[38;5;124mTesting score: \u001b[39m\u001b[38;5;124m\"\u001b[39m,pipe\u001b[38;5;241m.\u001b[39mscore(x_test, y_test))\n\u001b[0;32m     11\u001b[0m \u001b[38;5;28mprint\u001b[39m(\u001b[38;5;124m\"\u001b[39m\u001b[38;5;124mMSE score: \u001b[39m\u001b[38;5;124m\"\u001b[39m,MSE(y_test,y_predicted))\n",
      "\u001b[1;31mNameError\u001b[0m: name 'pipe' is not defined"
     ]
    }
   ],
   "source": [
    "\n",
    "from sklearn.metrics import accuracy_score\n",
    "from sklearn.metrics import precision_score\n",
    "from sklearn.metrics import recall_score\n",
    "from sklearn.metrics import f1_score\n",
    "\n",
    "from sklearn.metrics import mean_squared_error as MSE\n",
    "print(\"Training score: \",pipe.score(x_train, y_train))\n",
    "\n",
    "print(\"Testing score: \",pipe.score(x_test, y_test))\n",
    "\n",
    "print(\"MSE score: \",MSE(y_test,y_predicted))\n",
    "\n",
    "print(\"Accuracy: {:.2f}\".format(accuracy_score(y_test, y_predicted)))\n",
    "print(\"Precision: {:.2}\".format(precision_score(y_test, y_predicted)))\n",
    "print(\"Recall: {:.2f}\".format(recall_score(y_test, y_predicted)))\n",
    "print(\"F1-score: {:.2f}\".format(f1_score(y_test, y_predicted)))\n"
   ]
  },
  {
   "cell_type": "code",
   "execution_count": null,
   "id": "d8b90dd2",
   "metadata": {},
   "outputs": [],
   "source": [
    "\n",
    "from sklearn.metrics import confusion_matrix\n",
    "confusion_matrix(y_test,y_predicted)\n"
   ]
  },
  {
   "cell_type": "code",
   "execution_count": null,
   "id": "a04d6541",
   "metadata": {},
   "outputs": [],
   "source": [
    "\n",
    "cnf_matrix = confusion_matrix(y_test,y_predicted)\n",
    "np.set_printoptions(precision=2)\n",
    "sns.heatmap(cnf_matrix, square=True, annot=True, fmt='d', cbar=True,\n",
    "                        xticklabels=['0(Not Exited)', '1(Exited)'],\n",
    "                        yticklabels=['0(Not Exited)', '1(Exited)'])\n",
    "plt.ylabel('actual label')\n",
    "plt.xlabel('predicted label')\n",
    "plt.show()\n"
   ]
  },
  {
   "cell_type": "code",
   "execution_count": 191,
   "id": "12246615",
   "metadata": {},
   "outputs": [
    {
     "ename": "NameError",
     "evalue": "name 'y_predicted' is not defined",
     "output_type": "error",
     "traceback": [
      "\u001b[1;31m---------------------------------------------------------------------------\u001b[0m",
      "\u001b[1;31mNameError\u001b[0m                                 Traceback (most recent call last)",
      "Input \u001b[1;32mIn [191]\u001b[0m, in \u001b[0;36m<cell line: 3>\u001b[1;34m()\u001b[0m\n\u001b[0;32m      1\u001b[0m \u001b[38;5;28;01mfrom\u001b[39;00m \u001b[38;5;21;01msklearn\u001b[39;00m\u001b[38;5;21;01m.\u001b[39;00m\u001b[38;5;21;01mmetrics\u001b[39;00m \u001b[38;5;28;01mimport\u001b[39;00m roc_curve, auc\n\u001b[1;32m----> 3\u001b[0m fpr_dt, tpr_dt, _ \u001b[38;5;241m=\u001b[39m roc_curve(y_test,\u001b[43my_predicted\u001b[49m)\n\u001b[0;32m      4\u001b[0m roc_auc_dt \u001b[38;5;241m=\u001b[39m auc(fpr_dt, tpr_dt)\n\u001b[0;32m      6\u001b[0m y_predicted \u001b[38;5;241m=\u001b[39m pipe\u001b[38;5;241m.\u001b[39mpredict(x_test)\n",
      "\u001b[1;31mNameError\u001b[0m: name 'y_predicted' is not defined"
     ]
    }
   ],
   "source": [
    "\n",
    "from sklearn.metrics import roc_curve, auc\n",
    "\n",
    "fpr_dt, tpr_dt, _ = roc_curve(y_test,y_predicted)\n",
    "roc_auc_dt = auc(fpr_dt, tpr_dt)\n",
    "\n",
    "y_predicted = pipe.predict(x_test)\n",
    "y_predicted\n"
   ]
  },
  {
   "cell_type": "code",
   "execution_count": 190,
   "id": "f54852cf",
   "metadata": {},
   "outputs": [
    {
     "ename": "NameError",
     "evalue": "name 'fpr_dt' is not defined",
     "output_type": "error",
     "traceback": [
      "\u001b[1;31m---------------------------------------------------------------------------\u001b[0m",
      "\u001b[1;31mNameError\u001b[0m                                 Traceback (most recent call last)",
      "Input \u001b[1;32mIn [190]\u001b[0m, in \u001b[0;36m<cell line: 3>\u001b[1;34m()\u001b[0m\n\u001b[0;32m      1\u001b[0m plt\u001b[38;5;241m.\u001b[39mfigure(\u001b[38;5;241m1\u001b[39m)\n\u001b[0;32m      2\u001b[0m lw \u001b[38;5;241m=\u001b[39m \u001b[38;5;241m2\u001b[39m\n\u001b[1;32m----> 3\u001b[0m plt\u001b[38;5;241m.\u001b[39mplot(\u001b[43mfpr_dt\u001b[49m, tpr_dt, color\u001b[38;5;241m=\u001b[39m\u001b[38;5;124m'\u001b[39m\u001b[38;5;124mgreen\u001b[39m\u001b[38;5;124m'\u001b[39m,\n\u001b[0;32m      4\u001b[0m          lw\u001b[38;5;241m=\u001b[39mlw, label\u001b[38;5;241m=\u001b[39m\u001b[38;5;124m'\u001b[39m\u001b[38;5;124mLogistic Regression(AUC = \u001b[39m\u001b[38;5;132;01m%0.2f\u001b[39;00m\u001b[38;5;124m)\u001b[39m\u001b[38;5;124m'\u001b[39m \u001b[38;5;241m%\u001b[39m roc_auc_dt)\n\u001b[0;32m      5\u001b[0m plt\u001b[38;5;241m.\u001b[39mplot([\u001b[38;5;241m0\u001b[39m, \u001b[38;5;241m1\u001b[39m], [\u001b[38;5;241m0\u001b[39m, \u001b[38;5;241m1\u001b[39m], color\u001b[38;5;241m=\u001b[39m\u001b[38;5;124m'\u001b[39m\u001b[38;5;124mnavy\u001b[39m\u001b[38;5;124m'\u001b[39m, lw\u001b[38;5;241m=\u001b[39mlw, linestyle\u001b[38;5;241m=\u001b[39m\u001b[38;5;124m'\u001b[39m\u001b[38;5;124m--\u001b[39m\u001b[38;5;124m'\u001b[39m)\n\u001b[0;32m      7\u001b[0m plt\u001b[38;5;241m.\u001b[39mxlim([\u001b[38;5;241m0.0\u001b[39m, \u001b[38;5;241m1.0\u001b[39m])\n",
      "\u001b[1;31mNameError\u001b[0m: name 'fpr_dt' is not defined"
     ]
    },
    {
     "data": {
      "text/plain": [
       "<Figure size 432x288 with 0 Axes>"
      ]
     },
     "metadata": {},
     "output_type": "display_data"
    }
   ],
   "source": [
    "\n",
    "plt.figure(1)\n",
    "lw = 2\n",
    "plt.plot(fpr_dt, tpr_dt, color='green',\n",
    "         lw=lw, label='Logistic Regression(AUC = %0.2f)' % roc_auc_dt)\n",
    "plt.plot([0, 1], [0, 1], color='navy', lw=lw, linestyle='--')\n",
    "\n",
    "plt.xlim([0.0, 1.0])\n",
    "plt.ylim([0.0, 1.05])\n",
    "plt.xlabel('False Positive Rate')\n",
    "plt.ylabel('True Positive Rate')\n",
    "plt.title('Area Under Curve')\n",
    "plt.legend(loc=\"lower right\")\n",
    "plt.show()\n"
   ]
  },
  {
   "cell_type": "code",
   "execution_count": 192,
   "id": "dba64659",
   "metadata": {},
   "outputs": [
    {
     "ename": "NameError",
     "evalue": "name 'pipe' is not defined",
     "output_type": "error",
     "traceback": [
      "\u001b[1;31m---------------------------------------------------------------------------\u001b[0m",
      "\u001b[1;31mNameError\u001b[0m                                 Traceback (most recent call last)",
      "Input \u001b[1;32mIn [192]\u001b[0m, in \u001b[0;36m<cell line: 3>\u001b[1;34m()\u001b[0m\n\u001b[0;32m      1\u001b[0m \u001b[38;5;28;01mfrom\u001b[39;00m \u001b[38;5;21;01msklearn\u001b[39;00m\u001b[38;5;21;01m.\u001b[39;00m\u001b[38;5;21;01mmetrics\u001b[39;00m \u001b[38;5;28;01mimport\u001b[39;00m accuracy_score, confusion_matrix, classification_report, precision_recall_curve, roc_curve\n\u001b[1;32m----> 3\u001b[0m yhat \u001b[38;5;241m=\u001b[39m \u001b[43mpipe\u001b[49m\u001b[38;5;241m.\u001b[39mpredict_proba(x_test)\n\u001b[0;32m      4\u001b[0m precision, recall, _ \u001b[38;5;241m=\u001b[39m precision_recall_curve(y_test, yhat[:, \u001b[38;5;241m1\u001b[39m])\n\u001b[0;32m      5\u001b[0m plt\u001b[38;5;241m.\u001b[39mfigure(dpi\u001b[38;5;241m=\u001b[39m\u001b[38;5;241m100\u001b[39m, figsize\u001b[38;5;241m=\u001b[39m(\u001b[38;5;241m15\u001b[39m, \u001b[38;5;241m6\u001b[39m))\n",
      "\u001b[1;31mNameError\u001b[0m: name 'pipe' is not defined"
     ]
    }
   ],
   "source": [
    "\n",
    "from sklearn.metrics import accuracy_score, confusion_matrix, classification_report, precision_recall_curve, roc_curve\n",
    "\n",
    "yhat = pipe.predict_proba(x_test)\n",
    "precision, recall, _ = precision_recall_curve(y_test, yhat[:, 1])\n",
    "plt.figure(dpi=100, figsize=(15, 6))\n",
    "plt.subplot(121)\n",
    "sns.lineplot([0, 1], [1, 0], linestyle='--', label='No Skill')\n",
    "sns.lineplot(recall, precision, marker='.', label=pipe.__class__.__name__)\n",
    "plt.title(\"Recall vs Precision Curve\")\n",
    "plt.xlabel('Recall')\n",
    "plt.ylabel('Precision')\n",
    "plt.legend()\n",
    "plt.show()\n"
   ]
  },
  {
   "cell_type": "code",
   "execution_count": 193,
   "id": "a2f102fe",
   "metadata": {},
   "outputs": [
    {
     "ename": "NameError",
     "evalue": "name 'pipe' is not defined",
     "output_type": "error",
     "traceback": [
      "\u001b[1;31m---------------------------------------------------------------------------\u001b[0m",
      "\u001b[1;31mNameError\u001b[0m                                 Traceback (most recent call last)",
      "Input \u001b[1;32mIn [193]\u001b[0m, in \u001b[0;36m<cell line: 3>\u001b[1;34m()\u001b[0m\n\u001b[0;32m      1\u001b[0m col \u001b[38;5;241m=\u001b[39m[\u001b[38;5;124m'\u001b[39m\u001b[38;5;124mTraining Score\u001b[39m\u001b[38;5;124m'\u001b[39m,\u001b[38;5;124m'\u001b[39m\u001b[38;5;124mTesting Score\u001b[39m\u001b[38;5;124m'\u001b[39m,\u001b[38;5;124m'\u001b[39m\u001b[38;5;124mMSE score\u001b[39m\u001b[38;5;124m'\u001b[39m,\u001b[38;5;124m'\u001b[39m\u001b[38;5;124mAccuracy\u001b[39m\u001b[38;5;124m'\u001b[39m,\u001b[38;5;124m'\u001b[39m\u001b[38;5;124mPrecision\u001b[39m\u001b[38;5;124m'\u001b[39m,\u001b[38;5;124m'\u001b[39m\u001b[38;5;124mRecall\u001b[39m\u001b[38;5;124m'\u001b[39m,\u001b[38;5;124m'\u001b[39m\u001b[38;5;124mF1-Score\u001b[39m\u001b[38;5;124m'\u001b[39m]\n\u001b[0;32m      3\u001b[0m model_log_report1 \u001b[38;5;241m=\u001b[39m pd\u001b[38;5;241m.\u001b[39mDataFrame( \n\u001b[0;32m      4\u001b[0m                     {\n\u001b[1;32m----> 5\u001b[0m                     \u001b[38;5;124m'\u001b[39m\u001b[38;5;124mTraining Score\u001b[39m\u001b[38;5;124m'\u001b[39m: [\u001b[38;5;28mround\u001b[39m(\u001b[43mpipe\u001b[49m\u001b[38;5;241m.\u001b[39mscore(x_train, y_train),\u001b[38;5;241m2\u001b[39m)],\n\u001b[0;32m      6\u001b[0m                     \u001b[38;5;124m'\u001b[39m\u001b[38;5;124mTesting Score\u001b[39m\u001b[38;5;124m'\u001b[39m : [\u001b[38;5;28mround\u001b[39m(pipe\u001b[38;5;241m.\u001b[39mscore(x_test, y_test),\u001b[38;5;241m2\u001b[39m)], \n\u001b[0;32m      7\u001b[0m                     \u001b[38;5;124m'\u001b[39m\u001b[38;5;124mMSE score\u001b[39m\u001b[38;5;124m'\u001b[39m: [\u001b[38;5;28mround\u001b[39m(MSE(y_test,y_predicted),\u001b[38;5;241m2\u001b[39m)],\n\u001b[0;32m      8\u001b[0m                     \u001b[38;5;124m'\u001b[39m\u001b[38;5;124mAccuracy\u001b[39m\u001b[38;5;124m'\u001b[39m : [\u001b[38;5;28mround\u001b[39m(accuracy_score(y_test, y_predicted),\u001b[38;5;241m2\u001b[39m)],\n\u001b[0;32m      9\u001b[0m                     \u001b[38;5;124m'\u001b[39m\u001b[38;5;124mPrecision\u001b[39m\u001b[38;5;124m'\u001b[39m: [\u001b[38;5;28mround\u001b[39m(precision_score(y_test, y_predicted),\u001b[38;5;241m2\u001b[39m)],\n\u001b[0;32m     10\u001b[0m                     \u001b[38;5;124m'\u001b[39m\u001b[38;5;124mRecall\u001b[39m\u001b[38;5;124m'\u001b[39m   : [\u001b[38;5;28mround\u001b[39m(recall_score(y_test,y_predicted),\u001b[38;5;241m2\u001b[39m)],\n\u001b[0;32m     11\u001b[0m                     \u001b[38;5;124m'\u001b[39m\u001b[38;5;124mF1-Score\u001b[39m\u001b[38;5;124m'\u001b[39m : [\u001b[38;5;28mround\u001b[39m(f1_score(y_test,y_predicted),\u001b[38;5;241m2\u001b[39m)]\n\u001b[0;32m     12\u001b[0m                     },\n\u001b[0;32m     13\u001b[0m                     columns\u001b[38;5;241m=\u001b[39mcol,index\u001b[38;5;241m=\u001b[39m[\u001b[38;5;124m'\u001b[39m\u001b[38;5;124mLogistic Regression\u001b[39m\u001b[38;5;124m'\u001b[39m])\n",
      "\u001b[1;31mNameError\u001b[0m: name 'pipe' is not defined"
     ]
    }
   ],
   "source": [
    "\n",
    "col =['Training Score','Testing Score','MSE score','Accuracy','Precision','Recall','F1-Score']\n",
    "\n",
    "model_log_report1 = pd.DataFrame( \n",
    "                    {\n",
    "                    'Training Score': [round(pipe.score(x_train, y_train),2)],\n",
    "                    'Testing Score' : [round(pipe.score(x_test, y_test),2)], \n",
    "                    'MSE score': [round(MSE(y_test,y_predicted),2)],\n",
    "                    'Accuracy' : [round(accuracy_score(y_test, y_predicted),2)],\n",
    "                    'Precision': [round(precision_score(y_test, y_predicted),2)],\n",
    "                    'Recall'   : [round(recall_score(y_test,y_predicted),2)],\n",
    "                    'F1-Score' : [round(f1_score(y_test,y_predicted),2)]\n",
    "                    },\n",
    "                    columns=col,index=['Logistic Regression'])\n"
   ]
  },
  {
   "cell_type": "markdown",
   "id": "99d7684f",
   "metadata": {},
   "source": [
    "# Hyper Parameter Tuning for Decision Tree Using GridSearch CV"
   ]
  },
  {
   "cell_type": "code",
   "execution_count": 198,
   "id": "ffbfa37c",
   "metadata": {},
   "outputs": [],
   "source": [
    "from sklearn.model_selection import GridSearchCV\n",
    "from sklearn.tree import DecisionTreeClassifier\n",
    "\n",
    "def dtree_grid_search(X,y,nfolds):\n",
    "    \n",
    "    #create a dictionary of all values we want to test\n",
    "    param_grid = [ {'criterion': ['gini', 'entropy'], # measures split quality          \n",
    "                   'max_features': ['auto', None], # features considered at splits\n",
    "                   'max_depth': [5, 6, 8, 10,11],  # max nodes in each tree\n",
    "                   'min_samples_leaf': [5,8, 10,12, 15], # samples required in each leaf\n",
    "                   'min_samples_split': [5,10,15,20], # samples required to split node\n",
    "                    } ]\n",
    "    \n",
    "    # decision tree model\n",
    "    dtree_model=DecisionTreeClassifier()\n",
    "    \n",
    "    #use gridsearch to test all values\n",
    "    dtree_gscv = GridSearchCV(dtree_model, param_grid, cv=nfolds)\n",
    "    \n",
    "    #fit model to data\n",
    "    dtree_gscv.fit(X, y)\n",
    "    \n",
    "    return dtree_gscv.best_params_\n"
   ]
  },
  {
   "cell_type": "markdown",
   "id": "232e69b3",
   "metadata": {},
   "source": [
    "# Decision Tree Classifier"
   ]
  },
  {
   "cell_type": "code",
   "execution_count": null,
   "id": "7f2f5be3",
   "metadata": {},
   "outputs": [],
   "source": [
    "\n",
    "x = df.drop(columns=['Exited'])\n",
    "y  = df['Exited']\n",
    "\n",
    "x_train, x_test, y_train, y_test = train_test_split(x, y, test_size=0.2,random_state=52)\n"
   ]
  },
  {
   "cell_type": "code",
   "execution_count": null,
   "id": "87547b53",
   "metadata": {},
   "outputs": [],
   "source": [
    "\n",
    "decision_tree = DecisionTreeClassifier(random_state=52, max_depth=6, criterion = \"entropy\",\n",
    "                                   max_features= None,\n",
    "                                   min_samples_split=15,\n",
    "                                   min_samples_leaf=12)\n"
   ]
  },
  {
   "cell_type": "code",
   "execution_count": null,
   "id": "7c53f258",
   "metadata": {},
   "outputs": [],
   "source": [
    "\n",
    "pipe = Pipeline(steps=[('preprocessor', preprocessor),\n",
    "                            ('smote', smt),\n",
    "                            ('decision_tree', decision_tree)\n",
    "                          ])\n",
    "\n",
    "# Preprocessing of training data, fit model \n",
    "pipe.fit(x_train, y_train)\n"
   ]
  },
  {
   "cell_type": "code",
   "execution_count": null,
   "id": "c8d7eb77",
   "metadata": {},
   "outputs": [],
   "source": [
    "\n",
    "y_predicted = pipe.predict(x_test)\n"
   ]
  },
  {
   "cell_type": "code",
   "execution_count": null,
   "id": "f7289509",
   "metadata": {},
   "outputs": [],
   "source": [
    "\n",
    "from sklearn.metrics import mean_squared_error as MSE\n",
    "print(\"Training score: \",pipe.score(x_train, y_train))\n",
    "\n",
    "print(\"Testing score: \",pipe.score(x_test, y_test))\n",
    "\n",
    "print(\"MSE score: \",MSE(y_test,y_predicted))\n",
    "\n",
    "print(\"Accuracy: {:.2f}\".format(accuracy_score(y_test, y_predicted)))\n",
    "print(\"Precision: {:.2}\".format(precision_score(y_test, y_predicted)))\n",
    "print(\"Recall: {:.2f}\".format(recall_score(y_test, y_predicted)))\n",
    "print(\"F1-score: {:.2f}\".format(f1_score(y_test, y_predicted)))\n"
   ]
  },
  {
   "cell_type": "code",
   "execution_count": null,
   "id": "b3e6064c",
   "metadata": {},
   "outputs": [],
   "source": [
    "\n",
    "from sklearn.metrics import roc_curve, auc\n",
    "\n",
    "fpr_dt, tpr_dt, _ = roc_curve(y_test,y_predicted)\n",
    "roc_auc_dt = auc(fpr_dt, tpr_dt)\n",
    "\n",
    "y_predicted = pipe.predict(x_test)\n",
    "y_predicted\n"
   ]
  },
  {
   "cell_type": "code",
   "execution_count": null,
   "id": "e12d9944",
   "metadata": {},
   "outputs": [],
   "source": [
    "\n",
    "plt.figure(1)\n",
    "lw = 2\n",
    "plt.plot(fpr_dt, tpr_dt, color='green',\n",
    "         lw=lw, label='Decision Tree(AUC = %0.2f)' % roc_auc_dt)\n",
    "plt.plot([0, 1], [0, 1], color='navy', lw=lw, linestyle='--')\n",
    "\n",
    "plt.xlim([0.0, 1.0])\n",
    "plt.ylim([0.0, 1.05])\n",
    "plt.xlabel('False Positive Rate')\n",
    "plt.ylabel('True Positive Rate')\n",
    "plt.title('Area Under Curve')\n",
    "plt.legend(loc=\"lower right\")\n",
    "plt.show()\n"
   ]
  },
  {
   "cell_type": "code",
   "execution_count": 204,
   "id": "6a28b927",
   "metadata": {},
   "outputs": [
    {
     "ename": "NameError",
     "evalue": "name 'y_predicted' is not defined",
     "output_type": "error",
     "traceback": [
      "\u001b[1;31m---------------------------------------------------------------------------\u001b[0m",
      "\u001b[1;31mNameError\u001b[0m                                 Traceback (most recent call last)",
      "Input \u001b[1;32mIn [204]\u001b[0m, in \u001b[0;36m<cell line: 3>\u001b[1;34m()\u001b[0m\n\u001b[0;32m      1\u001b[0m \u001b[38;5;28;01mfrom\u001b[39;00m \u001b[38;5;21;01msklearn\u001b[39;00m\u001b[38;5;21;01m.\u001b[39;00m\u001b[38;5;21;01mmetrics\u001b[39;00m \u001b[38;5;28;01mimport\u001b[39;00m confusion_matrix\n\u001b[1;32m----> 3\u001b[0m cnf_matrix \u001b[38;5;241m=\u001b[39m confusion_matrix(y_test,\u001b[43my_predicted\u001b[49m)\n\u001b[0;32m      4\u001b[0m np\u001b[38;5;241m.\u001b[39mset_printoptions(precision\u001b[38;5;241m=\u001b[39m\u001b[38;5;241m2\u001b[39m)\n\u001b[0;32m      5\u001b[0m sns\u001b[38;5;241m.\u001b[39mheatmap(cnf_matrix, square\u001b[38;5;241m=\u001b[39m\u001b[38;5;28;01mTrue\u001b[39;00m, annot\u001b[38;5;241m=\u001b[39m\u001b[38;5;28;01mTrue\u001b[39;00m, fmt\u001b[38;5;241m=\u001b[39m\u001b[38;5;124m'\u001b[39m\u001b[38;5;124md\u001b[39m\u001b[38;5;124m'\u001b[39m, cbar\u001b[38;5;241m=\u001b[39m\u001b[38;5;28;01mTrue\u001b[39;00m,\n\u001b[0;32m      6\u001b[0m                         xticklabels\u001b[38;5;241m=\u001b[39m[\u001b[38;5;124m'\u001b[39m\u001b[38;5;124m0(Not Exited)\u001b[39m\u001b[38;5;124m'\u001b[39m, \u001b[38;5;124m'\u001b[39m\u001b[38;5;124m1(Exited)\u001b[39m\u001b[38;5;124m'\u001b[39m],\n\u001b[0;32m      7\u001b[0m                         yticklabels\u001b[38;5;241m=\u001b[39m[\u001b[38;5;124m'\u001b[39m\u001b[38;5;124m0(Not Exited)\u001b[39m\u001b[38;5;124m'\u001b[39m, \u001b[38;5;124m'\u001b[39m\u001b[38;5;124m1(Exited)\u001b[39m\u001b[38;5;124m'\u001b[39m])\n",
      "\u001b[1;31mNameError\u001b[0m: name 'y_predicted' is not defined"
     ]
    }
   ],
   "source": [
    "\n",
    "from sklearn.metrics import confusion_matrix\n",
    "\n",
    "cnf_matrix = confusion_matrix(y_test,y_predicted)\n",
    "np.set_printoptions(precision=2)\n",
    "sns.heatmap(cnf_matrix, square=True, annot=True, fmt='d', cbar=True,\n",
    "                        xticklabels=['0(Not Exited)', '1(Exited)'],\n",
    "                        yticklabels=['0(Not Exited)', '1(Exited)'])\n",
    "plt.ylabel('actual label')\n",
    "plt.xlabel('predicted label')\n",
    "plt.show()\n"
   ]
  },
  {
   "cell_type": "code",
   "execution_count": null,
   "id": "b54f52ae",
   "metadata": {},
   "outputs": [],
   "source": [
    "\n",
    "model_log_report2 = pd.DataFrame( \n",
    "                    {\n",
    "                    'Training Score': [round(pipe.score(x_train, y_train),2)],\n",
    "                    'Testing Score' : [round(pipe.score(x_test, y_test),2)], \n",
    "                    'MSE score': [round(MSE(y_test,y_predicted),2)],\n",
    "                    'Accuracy' : [round(accuracy_score(y_test, y_predicted),2)],\n",
    "                    'Precision': [round(precision_score(y_test, y_predicted),2)],\n",
    "                    'Recall'   : [round(recall_score(y_test,y_predicted),2)],\n",
    "                    'F1-Score' : [round(f1_score(y_test,y_predicted),2)]\n",
    "                    },\n",
    "                    columns=col,index=['Decision Tree'])\n"
   ]
  },
  {
   "cell_type": "markdown",
   "id": "e57c805b",
   "metadata": {},
   "source": [
    "# Hyper-parameter Tuning for Random Forest Using GridSearchCV"
   ]
  },
  {
   "cell_type": "code",
   "execution_count": 205,
   "id": "2676f1df",
   "metadata": {},
   "outputs": [],
   "source": [
    "\n",
    "from sklearn.ensemble import RandomForestClassifier\n"
   ]
  },
  {
   "cell_type": "code",
   "execution_count": null,
   "id": "5b9cc68b",
   "metadata": {},
   "outputs": [],
   "source": [
    "\n",
    "x = df.drop(columns=['Exited'])\n",
    "y  = df['Exited']\n",
    "\n",
    "x_train, x_test, y_train, y_test = train_test_split(x, y, test_size=0.2,random_state=52)\n",
    "\n",
    "x_train['Gender'] = x_train['Gender'].replace({'Male':1,'Female':0})\n",
    "x_train['Geography'] = x_train['Geography'].replace({'Germany':1,'France':0,'Spain':2})\n"
   ]
  },
  {
   "cell_type": "code",
   "execution_count": null,
   "id": "d5eba10b",
   "metadata": {},
   "outputs": [],
   "source": [
    "\n",
    "def ran_for_grid_search(X,y,nfolds):\n",
    "    \n",
    "    #create a dictionary of all values we want to test\n",
    "    param_grid = [ {'criterion': ['gini', 'entropy'], # measures split quality\n",
    "                   'n_estimators': [50, 100, 200], # number trees to grow           \n",
    "                   'max_depth': [6, 8, 10],  # max nodes in each tree\n",
    "                   'min_samples_leaf': [5, 10, 15], # samples required in each leaf\n",
    "                   'min_samples_split': [5,8,10], # samples required to split node\n",
    "                    } ]\n",
    "    \n",
    "    # random forest model\n",
    "    rfor_model=RandomForestClassifier()\n",
    "    \n",
    "    #use gridsearch to test all values\n",
    "    rfor_gscv = GridSearchCV(rfor_model, param_grid, cv=nfolds)\n",
    "    \n",
    "    #fit model to data\n",
    "    rfor_gscv.fit(X, y)\n",
    "    \n",
    "    return rfor_gscv.best_params_\n"
   ]
  },
  {
   "cell_type": "code",
   "execution_count": null,
   "id": "dfa455f1",
   "metadata": {},
   "outputs": [],
   "source": [
    "\n",
    "best_par = ran_for_grid_search(x_train,y_train,10)\n"
   ]
  },
  {
   "cell_type": "code",
   "execution_count": null,
   "id": "58060ebb",
   "metadata": {},
   "outputs": [],
   "source": [
    "best_par"
   ]
  },
  {
   "cell_type": "markdown",
   "id": "faf1db88",
   "metadata": {},
   "source": [
    "# Random Forest Classifier"
   ]
  },
  {
   "cell_type": "code",
   "execution_count": null,
   "id": "ac4cfc71",
   "metadata": {},
   "outputs": [],
   "source": [
    "\n",
    "x = df.drop(columns=['Exited'])\n",
    "y  = df['Exited']\n",
    "\n",
    "x_train, x_test, y_train, y_test = train_test_split(x, y, test_size=0.2,random_state=52)\n"
   ]
  },
  {
   "cell_type": "code",
   "execution_count": 206,
   "id": "c060cecf",
   "metadata": {},
   "outputs": [],
   "source": [
    "\n",
    "random_forest = RandomForestClassifier(max_depth=10,\n",
    "                                       n_estimators = 50, random_state=52,\n",
    "                                       bootstrap=True,\n",
    "                                       max_features=None,\n",
    "                                       min_samples_split=5,\n",
    "                                       min_samples_leaf=5,\n",
    "                                       criterion='gini')\n"
   ]
  },
  {
   "cell_type": "code",
   "execution_count": 207,
   "id": "e4574937",
   "metadata": {},
   "outputs": [
    {
     "ename": "TypeError",
     "evalue": "All intermediate steps should be transformers and implement fit and transform or be the string 'passthrough' 'SMOTE(random_state=2000)' (type <class 'imblearn.over_sampling._smote.base.SMOTE'>) doesn't",
     "output_type": "error",
     "traceback": [
      "\u001b[1;31m---------------------------------------------------------------------------\u001b[0m",
      "\u001b[1;31mTypeError\u001b[0m                                 Traceback (most recent call last)",
      "Input \u001b[1;32mIn [207]\u001b[0m, in \u001b[0;36m<cell line: 1>\u001b[1;34m()\u001b[0m\n\u001b[1;32m----> 1\u001b[0m pipe \u001b[38;5;241m=\u001b[39m \u001b[43mPipeline\u001b[49m\u001b[43m(\u001b[49m\u001b[43msteps\u001b[49m\u001b[38;5;241;43m=\u001b[39;49m\u001b[43m[\u001b[49m\u001b[43m(\u001b[49m\u001b[38;5;124;43m'\u001b[39;49m\u001b[38;5;124;43mpreprocessor\u001b[39;49m\u001b[38;5;124;43m'\u001b[39;49m\u001b[43m,\u001b[49m\u001b[43m \u001b[49m\u001b[43mpreprocessor\u001b[49m\u001b[43m)\u001b[49m\u001b[43m,\u001b[49m\n\u001b[0;32m      2\u001b[0m \u001b[43m                            \u001b[49m\u001b[43m(\u001b[49m\u001b[38;5;124;43m'\u001b[39;49m\u001b[38;5;124;43msmote\u001b[39;49m\u001b[38;5;124;43m'\u001b[39;49m\u001b[43m,\u001b[49m\u001b[43m \u001b[49m\u001b[43msmt\u001b[49m\u001b[43m)\u001b[49m\u001b[43m,\u001b[49m\n\u001b[0;32m      3\u001b[0m \u001b[43m                \u001b[49m\n\u001b[0;32m      4\u001b[0m \u001b[43m                       \u001b[49m\u001b[43m(\u001b[49m\u001b[38;5;124;43m'\u001b[39;49m\u001b[38;5;124;43mrandom_forest\u001b[39;49m\u001b[38;5;124;43m'\u001b[39;49m\u001b[43m,\u001b[49m\u001b[43m \u001b[49m\u001b[43mrandom_forest\u001b[49m\u001b[43m)\u001b[49m\n\u001b[0;32m      5\u001b[0m \u001b[43m                          \u001b[49m\u001b[43m]\u001b[49m\u001b[43m)\u001b[49m\n\u001b[0;32m      7\u001b[0m \u001b[38;5;66;03m# Preprocessing of training data, fit model \u001b[39;00m\n\u001b[0;32m      8\u001b[0m pipe\u001b[38;5;241m.\u001b[39mfit(x_train, y_train)\n",
      "File \u001b[1;32m~\\anaconda3\\lib\\site-packages\\sklearn\\pipeline.py:148\u001b[0m, in \u001b[0;36mPipeline.__init__\u001b[1;34m(self, steps, memory, verbose)\u001b[0m\n\u001b[0;32m    146\u001b[0m \u001b[38;5;28mself\u001b[39m\u001b[38;5;241m.\u001b[39mmemory \u001b[38;5;241m=\u001b[39m memory\n\u001b[0;32m    147\u001b[0m \u001b[38;5;28mself\u001b[39m\u001b[38;5;241m.\u001b[39mverbose \u001b[38;5;241m=\u001b[39m verbose\n\u001b[1;32m--> 148\u001b[0m \u001b[38;5;28;43mself\u001b[39;49m\u001b[38;5;241;43m.\u001b[39;49m\u001b[43m_validate_steps\u001b[49m\u001b[43m(\u001b[49m\u001b[43m)\u001b[49m\n",
      "File \u001b[1;32m~\\anaconda3\\lib\\site-packages\\sklearn\\pipeline.py:207\u001b[0m, in \u001b[0;36mPipeline._validate_steps\u001b[1;34m(self)\u001b[0m\n\u001b[0;32m    203\u001b[0m         \u001b[38;5;28;01mcontinue\u001b[39;00m\n\u001b[0;32m    204\u001b[0m     \u001b[38;5;28;01mif\u001b[39;00m \u001b[38;5;129;01mnot\u001b[39;00m (\u001b[38;5;28mhasattr\u001b[39m(t, \u001b[38;5;124m\"\u001b[39m\u001b[38;5;124mfit\u001b[39m\u001b[38;5;124m\"\u001b[39m) \u001b[38;5;129;01mor\u001b[39;00m \u001b[38;5;28mhasattr\u001b[39m(t, \u001b[38;5;124m\"\u001b[39m\u001b[38;5;124mfit_transform\u001b[39m\u001b[38;5;124m\"\u001b[39m)) \u001b[38;5;129;01mor\u001b[39;00m \u001b[38;5;129;01mnot\u001b[39;00m \u001b[38;5;28mhasattr\u001b[39m(\n\u001b[0;32m    205\u001b[0m         t, \u001b[38;5;124m\"\u001b[39m\u001b[38;5;124mtransform\u001b[39m\u001b[38;5;124m\"\u001b[39m\n\u001b[0;32m    206\u001b[0m     ):\n\u001b[1;32m--> 207\u001b[0m         \u001b[38;5;28;01mraise\u001b[39;00m \u001b[38;5;167;01mTypeError\u001b[39;00m(\n\u001b[0;32m    208\u001b[0m             \u001b[38;5;124m\"\u001b[39m\u001b[38;5;124mAll intermediate steps should be \u001b[39m\u001b[38;5;124m\"\u001b[39m\n\u001b[0;32m    209\u001b[0m             \u001b[38;5;124m\"\u001b[39m\u001b[38;5;124mtransformers and implement fit and transform \u001b[39m\u001b[38;5;124m\"\u001b[39m\n\u001b[0;32m    210\u001b[0m             \u001b[38;5;124m\"\u001b[39m\u001b[38;5;124mor be the string \u001b[39m\u001b[38;5;124m'\u001b[39m\u001b[38;5;124mpassthrough\u001b[39m\u001b[38;5;124m'\u001b[39m\u001b[38;5;124m \u001b[39m\u001b[38;5;124m\"\u001b[39m\n\u001b[0;32m    211\u001b[0m             \u001b[38;5;124m\"\u001b[39m\u001b[38;5;124m'\u001b[39m\u001b[38;5;132;01m%s\u001b[39;00m\u001b[38;5;124m'\u001b[39m\u001b[38;5;124m (type \u001b[39m\u001b[38;5;132;01m%s\u001b[39;00m\u001b[38;5;124m) doesn\u001b[39m\u001b[38;5;124m'\u001b[39m\u001b[38;5;124mt\u001b[39m\u001b[38;5;124m\"\u001b[39m \u001b[38;5;241m%\u001b[39m (t, \u001b[38;5;28mtype\u001b[39m(t))\n\u001b[0;32m    212\u001b[0m         )\n\u001b[0;32m    214\u001b[0m \u001b[38;5;66;03m# We allow last estimator to be None as an identity transformation\u001b[39;00m\n\u001b[0;32m    215\u001b[0m \u001b[38;5;28;01mif\u001b[39;00m (\n\u001b[0;32m    216\u001b[0m     estimator \u001b[38;5;129;01mis\u001b[39;00m \u001b[38;5;129;01mnot\u001b[39;00m \u001b[38;5;28;01mNone\u001b[39;00m\n\u001b[0;32m    217\u001b[0m     \u001b[38;5;129;01mand\u001b[39;00m estimator \u001b[38;5;241m!=\u001b[39m \u001b[38;5;124m\"\u001b[39m\u001b[38;5;124mpassthrough\u001b[39m\u001b[38;5;124m\"\u001b[39m\n\u001b[0;32m    218\u001b[0m     \u001b[38;5;129;01mand\u001b[39;00m \u001b[38;5;129;01mnot\u001b[39;00m \u001b[38;5;28mhasattr\u001b[39m(estimator, \u001b[38;5;124m\"\u001b[39m\u001b[38;5;124mfit\u001b[39m\u001b[38;5;124m\"\u001b[39m)\n\u001b[0;32m    219\u001b[0m ):\n",
      "\u001b[1;31mTypeError\u001b[0m: All intermediate steps should be transformers and implement fit and transform or be the string 'passthrough' 'SMOTE(random_state=2000)' (type <class 'imblearn.over_sampling._smote.base.SMOTE'>) doesn't"
     ]
    }
   ],
   "source": [
    "\n",
    "pipe = Pipeline(steps=[('preprocessor', preprocessor),\n",
    "                            ('smote', smt),\n",
    "                \n",
    "                       ('random_forest', random_forest)\n",
    "                          ])\n",
    "\n",
    "# Preprocessing of training data, fit model \n",
    "pipe.fit(x_train, y_train)\n"
   ]
  },
  {
   "cell_type": "code",
   "execution_count": null,
   "id": "19da34fb",
   "metadata": {},
   "outputs": [],
   "source": [
    "\n",
    "y_predicted = pipe.predict(x_test)\n"
   ]
  },
  {
   "cell_type": "code",
   "execution_count": 208,
   "id": "4cb7c7e0",
   "metadata": {},
   "outputs": [
    {
     "ename": "NameError",
     "evalue": "name 'pipe' is not defined",
     "output_type": "error",
     "traceback": [
      "\u001b[1;31m---------------------------------------------------------------------------\u001b[0m",
      "\u001b[1;31mNameError\u001b[0m                                 Traceback (most recent call last)",
      "Input \u001b[1;32mIn [208]\u001b[0m, in \u001b[0;36m<cell line: 2>\u001b[1;34m()\u001b[0m\n\u001b[0;32m      1\u001b[0m \u001b[38;5;28;01mfrom\u001b[39;00m \u001b[38;5;21;01msklearn\u001b[39;00m\u001b[38;5;21;01m.\u001b[39;00m\u001b[38;5;21;01mmetrics\u001b[39;00m \u001b[38;5;28;01mimport\u001b[39;00m mean_squared_error \u001b[38;5;28;01mas\u001b[39;00m MSE\n\u001b[1;32m----> 2\u001b[0m \u001b[38;5;28mprint\u001b[39m(\u001b[38;5;124m\"\u001b[39m\u001b[38;5;124mTraining score: \u001b[39m\u001b[38;5;124m\"\u001b[39m,\u001b[43mpipe\u001b[49m\u001b[38;5;241m.\u001b[39mscore(x_train, y_train))\n\u001b[0;32m      4\u001b[0m \u001b[38;5;28mprint\u001b[39m(\u001b[38;5;124m\"\u001b[39m\u001b[38;5;124mTesting score: \u001b[39m\u001b[38;5;124m\"\u001b[39m,pipe\u001b[38;5;241m.\u001b[39mscore(x_test, y_test))\n\u001b[0;32m      6\u001b[0m \u001b[38;5;28mprint\u001b[39m(\u001b[38;5;124m\"\u001b[39m\u001b[38;5;124mMSE score: \u001b[39m\u001b[38;5;124m\"\u001b[39m,MSE(y_test,y_predicted))\n",
      "\u001b[1;31mNameError\u001b[0m: name 'pipe' is not defined"
     ]
    }
   ],
   "source": [
    "\n",
    "from sklearn.metrics import mean_squared_error as MSE\n",
    "print(\"Training score: \",pipe.score(x_train, y_train))\n",
    "\n",
    "print(\"Testing score: \",pipe.score(x_test, y_test))\n",
    "\n",
    "print(\"MSE score: \",MSE(y_test,y_predicted))\n",
    "\n",
    "print(\"Accuracy: {:.2f}\".format(accuracy_score(y_test, y_predicted)))\n",
    "print(\"Precision: {:.2}\".format(precision_score(y_test, y_predicted)))\n",
    "print(\"Recall: {:.2f}\".format(recall_score(y_test, y_predicted)))\n",
    "print(\"F1-score: {:.2f}\".format(f1_score(y_test, y_predicted)))\n"
   ]
  },
  {
   "cell_type": "code",
   "execution_count": 209,
   "id": "e7b5847d",
   "metadata": {},
   "outputs": [
    {
     "ename": "NameError",
     "evalue": "name 'y_predicted' is not defined",
     "output_type": "error",
     "traceback": [
      "\u001b[1;31m---------------------------------------------------------------------------\u001b[0m",
      "\u001b[1;31mNameError\u001b[0m                                 Traceback (most recent call last)",
      "Input \u001b[1;32mIn [209]\u001b[0m, in \u001b[0;36m<cell line: 3>\u001b[1;34m()\u001b[0m\n\u001b[0;32m      1\u001b[0m \u001b[38;5;28;01mfrom\u001b[39;00m \u001b[38;5;21;01msklearn\u001b[39;00m\u001b[38;5;21;01m.\u001b[39;00m\u001b[38;5;21;01mmetrics\u001b[39;00m \u001b[38;5;28;01mimport\u001b[39;00m roc_curve, auc\n\u001b[1;32m----> 3\u001b[0m fpr_dt, tpr_dt, _ \u001b[38;5;241m=\u001b[39m roc_curve(y_test,\u001b[43my_predicted\u001b[49m)\n\u001b[0;32m      4\u001b[0m roc_auc_dt \u001b[38;5;241m=\u001b[39m auc(fpr_dt, tpr_dt)\n\u001b[0;32m      6\u001b[0m y_predicted \u001b[38;5;241m=\u001b[39m pipe\u001b[38;5;241m.\u001b[39mpredict(x_test)\n",
      "\u001b[1;31mNameError\u001b[0m: name 'y_predicted' is not defined"
     ]
    }
   ],
   "source": [
    "\n",
    "from sklearn.metrics import roc_curve, auc\n",
    "\n",
    "fpr_dt, tpr_dt, _ = roc_curve(y_test,y_predicted)\n",
    "roc_auc_dt = auc(fpr_dt, tpr_dt)\n",
    "\n",
    "y_predicted = pipe.predict(x_test)\n",
    "y_predicted\n"
   ]
  },
  {
   "cell_type": "code",
   "execution_count": 210,
   "id": "0ed25244",
   "metadata": {},
   "outputs": [
    {
     "ename": "NameError",
     "evalue": "name 'fpr_dt' is not defined",
     "output_type": "error",
     "traceback": [
      "\u001b[1;31m---------------------------------------------------------------------------\u001b[0m",
      "\u001b[1;31mNameError\u001b[0m                                 Traceback (most recent call last)",
      "Input \u001b[1;32mIn [210]\u001b[0m, in \u001b[0;36m<cell line: 3>\u001b[1;34m()\u001b[0m\n\u001b[0;32m      1\u001b[0m plt\u001b[38;5;241m.\u001b[39mfigure(\u001b[38;5;241m1\u001b[39m)\n\u001b[0;32m      2\u001b[0m lw \u001b[38;5;241m=\u001b[39m \u001b[38;5;241m2\u001b[39m\n\u001b[1;32m----> 3\u001b[0m plt\u001b[38;5;241m.\u001b[39mplot(\u001b[43mfpr_dt\u001b[49m, tpr_dt, color\u001b[38;5;241m=\u001b[39m\u001b[38;5;124m'\u001b[39m\u001b[38;5;124mgreen\u001b[39m\u001b[38;5;124m'\u001b[39m,\n\u001b[0;32m      4\u001b[0m          lw\u001b[38;5;241m=\u001b[39mlw, label\u001b[38;5;241m=\u001b[39m\u001b[38;5;124m'\u001b[39m\u001b[38;5;124mRandom Forest(AUC = \u001b[39m\u001b[38;5;132;01m%0.2f\u001b[39;00m\u001b[38;5;124m)\u001b[39m\u001b[38;5;124m'\u001b[39m \u001b[38;5;241m%\u001b[39m roc_auc_dt)\n\u001b[0;32m      5\u001b[0m plt\u001b[38;5;241m.\u001b[39mplot([\u001b[38;5;241m0\u001b[39m, \u001b[38;5;241m1\u001b[39m], [\u001b[38;5;241m0\u001b[39m, \u001b[38;5;241m1\u001b[39m], color\u001b[38;5;241m=\u001b[39m\u001b[38;5;124m'\u001b[39m\u001b[38;5;124mnavy\u001b[39m\u001b[38;5;124m'\u001b[39m, lw\u001b[38;5;241m=\u001b[39mlw, linestyle\u001b[38;5;241m=\u001b[39m\u001b[38;5;124m'\u001b[39m\u001b[38;5;124m--\u001b[39m\u001b[38;5;124m'\u001b[39m)\n\u001b[0;32m      7\u001b[0m plt\u001b[38;5;241m.\u001b[39mxlim([\u001b[38;5;241m0.0\u001b[39m, \u001b[38;5;241m1.0\u001b[39m])\n",
      "\u001b[1;31mNameError\u001b[0m: name 'fpr_dt' is not defined"
     ]
    },
    {
     "data": {
      "text/plain": [
       "<Figure size 432x288 with 0 Axes>"
      ]
     },
     "metadata": {},
     "output_type": "display_data"
    }
   ],
   "source": [
    "\n",
    "plt.figure(1)\n",
    "lw = 2\n",
    "plt.plot(fpr_dt, tpr_dt, color='green',\n",
    "         lw=lw, label='Random Forest(AUC = %0.2f)' % roc_auc_dt)\n",
    "plt.plot([0, 1], [0, 1], color='navy', lw=lw, linestyle='--')\n",
    "\n",
    "plt.xlim([0.0, 1.0])\n",
    "plt.ylim([0.0, 1.05])\n",
    "plt.xlabel('False Positive Rate')\n",
    "plt.ylabel('True Positive Rate')\n",
    "plt.title('Area Under Curve')\n",
    "plt.legend(loc=\"lower right\")\n",
    "plt.show()\n"
   ]
  },
  {
   "cell_type": "code",
   "execution_count": 211,
   "id": "ca117238",
   "metadata": {},
   "outputs": [
    {
     "ename": "NameError",
     "evalue": "name 'y_predicted' is not defined",
     "output_type": "error",
     "traceback": [
      "\u001b[1;31m---------------------------------------------------------------------------\u001b[0m",
      "\u001b[1;31mNameError\u001b[0m                                 Traceback (most recent call last)",
      "Input \u001b[1;32mIn [211]\u001b[0m, in \u001b[0;36m<cell line: 3>\u001b[1;34m()\u001b[0m\n\u001b[0;32m      1\u001b[0m \u001b[38;5;28;01mfrom\u001b[39;00m \u001b[38;5;21;01msklearn\u001b[39;00m\u001b[38;5;21;01m.\u001b[39;00m\u001b[38;5;21;01mmetrics\u001b[39;00m \u001b[38;5;28;01mimport\u001b[39;00m confusion_matrix\n\u001b[1;32m----> 3\u001b[0m cnf_matrix \u001b[38;5;241m=\u001b[39m confusion_matrix(y_test,\u001b[43my_predicted\u001b[49m)\n\u001b[0;32m      4\u001b[0m np\u001b[38;5;241m.\u001b[39mset_printoptions(precision\u001b[38;5;241m=\u001b[39m\u001b[38;5;241m2\u001b[39m)\n\u001b[0;32m      5\u001b[0m sns\u001b[38;5;241m.\u001b[39mheatmap(cnf_matrix, square\u001b[38;5;241m=\u001b[39m\u001b[38;5;28;01mTrue\u001b[39;00m, annot\u001b[38;5;241m=\u001b[39m\u001b[38;5;28;01mTrue\u001b[39;00m, fmt\u001b[38;5;241m=\u001b[39m\u001b[38;5;124m'\u001b[39m\u001b[38;5;124md\u001b[39m\u001b[38;5;124m'\u001b[39m, cbar\u001b[38;5;241m=\u001b[39m\u001b[38;5;28;01mTrue\u001b[39;00m,\n\u001b[0;32m      6\u001b[0m                         xticklabels\u001b[38;5;241m=\u001b[39m[\u001b[38;5;124m'\u001b[39m\u001b[38;5;124m0(Not Exited)\u001b[39m\u001b[38;5;124m'\u001b[39m, \u001b[38;5;124m'\u001b[39m\u001b[38;5;124m1(Exited)\u001b[39m\u001b[38;5;124m'\u001b[39m],\n\u001b[0;32m      7\u001b[0m                         yticklabels\u001b[38;5;241m=\u001b[39m[\u001b[38;5;124m'\u001b[39m\u001b[38;5;124m0(Not Exited)\u001b[39m\u001b[38;5;124m'\u001b[39m, \u001b[38;5;124m'\u001b[39m\u001b[38;5;124m1(Exited)\u001b[39m\u001b[38;5;124m'\u001b[39m])\n",
      "\u001b[1;31mNameError\u001b[0m: name 'y_predicted' is not defined"
     ]
    }
   ],
   "source": [
    "\n",
    "from sklearn.metrics import confusion_matrix\n",
    "\n",
    "cnf_matrix = confusion_matrix(y_test,y_predicted)\n",
    "np.set_printoptions(precision=2)\n",
    "sns.heatmap(cnf_matrix, square=True, annot=True, fmt='d', cbar=True,\n",
    "                        xticklabels=['0(Not Exited)', '1(Exited)'],\n",
    "                        yticklabels=['0(Not Exited)', '1(Exited)'])\n",
    "plt.ylabel('actual label')\n",
    "plt.xlabel('predicted label')\n",
    "plt.show()\n"
   ]
  },
  {
   "cell_type": "code",
   "execution_count": 212,
   "id": "b43aff42",
   "metadata": {},
   "outputs": [
    {
     "ename": "NameError",
     "evalue": "name 'pipe' is not defined",
     "output_type": "error",
     "traceback": [
      "\u001b[1;31m---------------------------------------------------------------------------\u001b[0m",
      "\u001b[1;31mNameError\u001b[0m                                 Traceback (most recent call last)",
      "Input \u001b[1;32mIn [212]\u001b[0m, in \u001b[0;36m<cell line: 1>\u001b[1;34m()\u001b[0m\n\u001b[0;32m      1\u001b[0m model_log_report3 \u001b[38;5;241m=\u001b[39m pd\u001b[38;5;241m.\u001b[39mDataFrame( \n\u001b[0;32m      2\u001b[0m                     {\n\u001b[1;32m----> 3\u001b[0m                     \u001b[38;5;124m'\u001b[39m\u001b[38;5;124mTraining Score\u001b[39m\u001b[38;5;124m'\u001b[39m: [\u001b[38;5;28mround\u001b[39m(\u001b[43mpipe\u001b[49m\u001b[38;5;241m.\u001b[39mscore(x_train, y_train),\u001b[38;5;241m2\u001b[39m)],\n\u001b[0;32m      4\u001b[0m                     \u001b[38;5;124m'\u001b[39m\u001b[38;5;124mTesting Score\u001b[39m\u001b[38;5;124m'\u001b[39m : [\u001b[38;5;28mround\u001b[39m(pipe\u001b[38;5;241m.\u001b[39mscore(x_test, y_test),\u001b[38;5;241m2\u001b[39m)], \n\u001b[0;32m      5\u001b[0m                     \u001b[38;5;124m'\u001b[39m\u001b[38;5;124mMSE score\u001b[39m\u001b[38;5;124m'\u001b[39m: [\u001b[38;5;28mround\u001b[39m(MSE(y_test,y_predicted),\u001b[38;5;241m2\u001b[39m)],\n\u001b[0;32m      6\u001b[0m                     \u001b[38;5;124m'\u001b[39m\u001b[38;5;124mAccuracy\u001b[39m\u001b[38;5;124m'\u001b[39m : [\u001b[38;5;28mround\u001b[39m(accuracy_score(y_test, y_predicted),\u001b[38;5;241m2\u001b[39m)],\n\u001b[0;32m      7\u001b[0m                     \u001b[38;5;124m'\u001b[39m\u001b[38;5;124mPrecision\u001b[39m\u001b[38;5;124m'\u001b[39m: [\u001b[38;5;28mround\u001b[39m(precision_score(y_test, y_predicted),\u001b[38;5;241m2\u001b[39m)],\n\u001b[0;32m      8\u001b[0m                     \u001b[38;5;124m'\u001b[39m\u001b[38;5;124mRecall\u001b[39m\u001b[38;5;124m'\u001b[39m   : [\u001b[38;5;28mround\u001b[39m(recall_score(y_test,y_predicted),\u001b[38;5;241m2\u001b[39m)],\n\u001b[0;32m      9\u001b[0m                     \u001b[38;5;124m'\u001b[39m\u001b[38;5;124mF1-Score\u001b[39m\u001b[38;5;124m'\u001b[39m : [\u001b[38;5;28mround\u001b[39m(f1_score(y_test,y_predicted),\u001b[38;5;241m2\u001b[39m)]\n\u001b[0;32m     10\u001b[0m                     },\n\u001b[0;32m     11\u001b[0m                     columns\u001b[38;5;241m=\u001b[39mcol,index\u001b[38;5;241m=\u001b[39m[\u001b[38;5;124m'\u001b[39m\u001b[38;5;124mRandom Forest\u001b[39m\u001b[38;5;124m'\u001b[39m])\n",
      "\u001b[1;31mNameError\u001b[0m: name 'pipe' is not defined"
     ]
    }
   ],
   "source": [
    "\n",
    "model_log_report3 = pd.DataFrame( \n",
    "                    {\n",
    "                    'Training Score': [round(pipe.score(x_train, y_train),2)],\n",
    "                    'Testing Score' : [round(pipe.score(x_test, y_test),2)], \n",
    "                    'MSE score': [round(MSE(y_test,y_predicted),2)],\n",
    "                    'Accuracy' : [round(accuracy_score(y_test, y_predicted),2)],\n",
    "                    'Precision': [round(precision_score(y_test, y_predicted),2)],\n",
    "                    'Recall'   : [round(recall_score(y_test,y_predicted),2)],\n",
    "                    'F1-Score' : [round(f1_score(y_test,y_predicted),2)]\n",
    "                    },\n",
    "                    columns=col,index=['Random Forest'])\n"
   ]
  },
  {
   "cell_type": "markdown",
   "id": "b83634ca",
   "metadata": {},
   "source": [
    "## Hyper parameter tuning using GridSearch CV"
   ]
  },
  {
   "cell_type": "code",
   "execution_count": 213,
   "id": "b5ace7ac",
   "metadata": {},
   "outputs": [],
   "source": [
    "\n",
    "def xgboost_grid_search(X,y,nfolds):\n",
    "    \n",
    "    #create a dictionary of all values we want to test\n",
    "    param_grid = [ {\n",
    "        'learning_rate': [0.01, 0.1, 0.2], # step size for model iteration\n",
    "        'reg_lambda': [1, 2], # L2 regularization term; higher=more conservative\n",
    "        'max_depth': [6, 8], # max number of trees deep\n",
    "        'gamma': [2, 4], # minimum loss reduction on partitions; higher=more conservative\n",
    "        'subsample': [0.6, 0.8], # ratio of the training used to grow each tree\n",
    "        'colsample_bytree': [0.7, 0.9], # ratio of columns when constructing each tree\n",
    "        'n_estimators': [100, 200,250], # number of trees to grow\n",
    "                  } ]\n",
    "    \n",
    "    # XGboost model\n",
    "    xgboost_model= xgb.XGBClassifier()\n",
    "    \n",
    "    #use gridsearch to test all values\n",
    "    xgboost_gscv = GridSearchCV(xgboost_model, param_grid, cv=nfolds)\n",
    "    \n",
    "    #fit model to data\n",
    "    xgboost_gscv.fit(X, y)\n",
    "    \n",
    "    return xgboost_gscv.best_params_\n"
   ]
  },
  {
   "cell_type": "code",
   "execution_count": 214,
   "id": "a2eef431",
   "metadata": {},
   "outputs": [
    {
     "ename": "NameError",
     "evalue": "name 'xgb' is not defined",
     "output_type": "error",
     "traceback": [
      "\u001b[1;31m---------------------------------------------------------------------------\u001b[0m",
      "\u001b[1;31mNameError\u001b[0m                                 Traceback (most recent call last)",
      "Input \u001b[1;32mIn [214]\u001b[0m, in \u001b[0;36m<cell line: 1>\u001b[1;34m()\u001b[0m\n\u001b[1;32m----> 1\u001b[0m best_par \u001b[38;5;241m=\u001b[39m \u001b[43mxgboost_grid_search\u001b[49m\u001b[43m(\u001b[49m\u001b[43mx_train\u001b[49m\u001b[43m,\u001b[49m\u001b[43my_train\u001b[49m\u001b[43m,\u001b[49m\u001b[38;5;241;43m10\u001b[39;49m\u001b[43m)\u001b[49m\n\u001b[0;32m      2\u001b[0m best_par\n",
      "Input \u001b[1;32mIn [213]\u001b[0m, in \u001b[0;36mxgboost_grid_search\u001b[1;34m(X, y, nfolds)\u001b[0m\n\u001b[0;32m      4\u001b[0m param_grid \u001b[38;5;241m=\u001b[39m [ {\n\u001b[0;32m      5\u001b[0m     \u001b[38;5;124m'\u001b[39m\u001b[38;5;124mlearning_rate\u001b[39m\u001b[38;5;124m'\u001b[39m: [\u001b[38;5;241m0.01\u001b[39m, \u001b[38;5;241m0.1\u001b[39m, \u001b[38;5;241m0.2\u001b[39m], \u001b[38;5;66;03m# step size for model iteration\u001b[39;00m\n\u001b[0;32m      6\u001b[0m     \u001b[38;5;124m'\u001b[39m\u001b[38;5;124mreg_lambda\u001b[39m\u001b[38;5;124m'\u001b[39m: [\u001b[38;5;241m1\u001b[39m, \u001b[38;5;241m2\u001b[39m], \u001b[38;5;66;03m# L2 regularization term; higher=more conservative\u001b[39;00m\n\u001b[1;32m   (...)\u001b[0m\n\u001b[0;32m     11\u001b[0m     \u001b[38;5;124m'\u001b[39m\u001b[38;5;124mn_estimators\u001b[39m\u001b[38;5;124m'\u001b[39m: [\u001b[38;5;241m100\u001b[39m, \u001b[38;5;241m200\u001b[39m,\u001b[38;5;241m250\u001b[39m], \u001b[38;5;66;03m# number of trees to grow\u001b[39;00m\n\u001b[0;32m     12\u001b[0m               } ]\n\u001b[0;32m     14\u001b[0m \u001b[38;5;66;03m# XGboost model\u001b[39;00m\n\u001b[1;32m---> 15\u001b[0m xgboost_model\u001b[38;5;241m=\u001b[39m \u001b[43mxgb\u001b[49m\u001b[38;5;241m.\u001b[39mXGBClassifier()\n\u001b[0;32m     17\u001b[0m \u001b[38;5;66;03m#use gridsearch to test all values\u001b[39;00m\n\u001b[0;32m     18\u001b[0m xgboost_gscv \u001b[38;5;241m=\u001b[39m GridSearchCV(xgboost_model, param_grid, cv\u001b[38;5;241m=\u001b[39mnfolds)\n",
      "\u001b[1;31mNameError\u001b[0m: name 'xgb' is not defined"
     ]
    }
   ],
   "source": [
    "\n",
    "best_par = xgboost_grid_search(x_train,y_train,10)\n",
    "best_par\n"
   ]
  },
  {
   "cell_type": "code",
   "execution_count": null,
   "id": "acb63739",
   "metadata": {},
   "outputs": [],
   "source": []
  },
  {
   "cell_type": "markdown",
   "id": "9cecc1bb",
   "metadata": {},
   "source": [
    "# XG Boost"
   ]
  },
  {
   "cell_type": "code",
   "execution_count": null,
   "id": "3269026d",
   "metadata": {},
   "outputs": [],
   "source": [
    "\n",
    "x = df.drop(columns=['Exited'])\n",
    "y  = df['Exited']\n",
    "\n",
    "x_train, x_test, y_train, y_test = train_test_split(x, y, test_size=0.2,random_state=52)\n",
    "                                                    "
   ]
  },
  {
   "cell_type": "code",
   "execution_count": null,
   "id": "0dd0d7ac",
   "metadata": {},
   "outputs": [],
   "source": [
    "\n",
    "import xgboost as xgb\n",
    "\n",
    "xgb = xgb.XGBClassifier(random_state=52, \n",
    "                        colsample_bytree= 0.7,\n",
    "                        gamma= 4,\n",
    "                        learning_rate= 0.1,\n",
    "                        max_depth= 6,\n",
    "                        n_estimators= 100,\n",
    "                        reg_lambda= 1,\n",
    "                        subsample= 0.8)\n"
   ]
  },
  {
   "cell_type": "code",
   "execution_count": null,
   "id": "1a6c6e03",
   "metadata": {},
   "outputs": [],
   "source": [
    "pipe = Pipeline(steps=[('preprocessor', preprocessor),\n",
    "                             ('smote', smt),\n",
    "                             ('xgb', xgb)\n",
    "                         ])\n",
    "\n",
    "# Preprocessing of training data, fit model \n",
    "pipe.fit(x_train, y_train)\n"
   ]
  },
  {
   "cell_type": "code",
   "execution_count": null,
   "id": "8effe525",
   "metadata": {},
   "outputs": [],
   "source": [
    "\n",
    "y_predicted = pipe.predict(x_test)\n"
   ]
  },
  {
   "cell_type": "code",
   "execution_count": null,
   "id": "1f041b22",
   "metadata": {},
   "outputs": [],
   "source": [
    "\n",
    "from sklearn.metrics import mean_squared_error as MSE\n",
    "\n",
    "print(\"Training score: \",pipe.score(x_train, y_train))\n",
    "print(\"Testing score: \",pipe.score(x_test, y_test))\n",
    "print(\"MSE score: \",MSE(y_test,y_predicted))\n",
    "print(\"Accuracy: {:.2f}\".format(accuracy_score(y_test, y_predicted)))\n",
    "print(\"Precision: {:.2}\".format(precision_score(y_test, y_predicted)))\n",
    "print(\"Recall: {:.2f}\".format(recall_score(y_test, y_predicted)))\n",
    "print(\"F1-score: {:.2f}\".format(f1_score(y_test, y_predicted)))\n"
   ]
  },
  {
   "cell_type": "code",
   "execution_count": null,
   "id": "8b442478",
   "metadata": {},
   "outputs": [],
   "source": [
    "\n",
    "from sklearn.metrics import roc_curve, auc\n",
    "\n",
    "fpr_dt, tpr_dt, _ = roc_curve(y_test,y_predicted)\n",
    "roc_auc_dt = auc(fpr_dt, tpr_dt)\n",
    "\n",
    "y_predicted = pipe.predict(x_test)\n",
    "y_predicted\n"
   ]
  },
  {
   "cell_type": "code",
   "execution_count": null,
   "id": "2dd12899",
   "metadata": {},
   "outputs": [],
   "source": [
    "\n",
    "plt.figure(1)\n",
    "lw = 2\n",
    "plt.plot(fpr_dt, tpr_dt, color='green',\n",
    "         lw=lw, label='XG Boost(AUC = %0.2f)' % roc_auc_dt)\n",
    "plt.plot([0, 1], [0, 1], color='navy', lw=lw, linestyle='--')\n",
    "\n",
    "plt.xlim([0.0, 1.0])\n",
    "plt.ylim([0.0, 1.05])\n",
    "plt.xlabel('False Positive Rate')\n",
    "plt.ylabel('True Positive Rate')\n",
    "plt.title('Area Under Curve')\n",
    "plt.legend(loc=\"lower right\")\n",
    "plt.show()\n"
   ]
  },
  {
   "cell_type": "code",
   "execution_count": null,
   "id": "aa2e606e",
   "metadata": {},
   "outputs": [],
   "source": [
    "\n",
    "from sklearn.metrics import confusion_matrix\n",
    "\n",
    "cnf_matrix = confusion_matrix(y_test,y_predicted)\n",
    "np.set_printoptions(precision=2)\n",
    "sns.heatmap(cnf_matrix, square=True, annot=True, fmt='d', cbar=True,\n",
    "                        xticklabels=['0(Not Exited)', '1(Exited)'],\n",
    "                        yticklabels=['0(Not Exited)', '1(Exited)'])\n",
    "plt.ylabel('actual label')\n",
    "plt.xlabel('predicted label')\n",
    "plt.show()\n"
   ]
  },
  {
   "cell_type": "code",
   "execution_count": null,
   "id": "378f2ffc",
   "metadata": {},
   "outputs": [],
   "source": [
    "\n",
    "model_log_report4 = pd.DataFrame( \n",
    "                    {\n",
    "                    'Training Score': [round(pipe.score(x_train, y_train),2)],\n",
    "                    'Testing Score' : [round(pipe.score(x_test, y_test),2)], \n",
    "                    'MSE score': [round(MSE(y_test,y_predicted),2)],\n",
    "                    'Accuracy' : [round(accuracy_score(y_test, y_predicted),2)],\n",
    "                    'Precision': [round(precision_score(y_test, y_predicted),2)],\n",
    "                    'Recall'   : [round(recall_score(y_test,y_predicted),2)],\n",
    "                    'F1-Score' : [round(f1_score(y_test,y_predicted),2)]\n",
    "                    },\n",
    "                    columns=col,index=['Xgboost'])\n"
   ]
  },
  {
   "cell_type": "markdown",
   "id": "6565955a",
   "metadata": {},
   "source": [
    "# Comparing Models"
   ]
  },
  {
   "cell_type": "markdown",
   "id": "996d79a7",
   "metadata": {},
   "source": [
    "### We need confidence in our positive class predictions (churn) when taking retention actions."
   ]
  },
  {
   "cell_type": "code",
   "execution_count": 215,
   "id": "ab8b9063",
   "metadata": {},
   "outputs": [
    {
     "ename": "NameError",
     "evalue": "name 'model_log_report1' is not defined",
     "output_type": "error",
     "traceback": [
      "\u001b[1;31m---------------------------------------------------------------------------\u001b[0m",
      "\u001b[1;31mNameError\u001b[0m                                 Traceback (most recent call last)",
      "Input \u001b[1;32mIn [215]\u001b[0m, in \u001b[0;36m<cell line: 3>\u001b[1;34m()\u001b[0m\n\u001b[0;32m      1\u001b[0m col \u001b[38;5;241m=\u001b[39m[\u001b[38;5;124m'\u001b[39m\u001b[38;5;124mTraining Score\u001b[39m\u001b[38;5;124m'\u001b[39m,\u001b[38;5;124m'\u001b[39m\u001b[38;5;124mTesting Score\u001b[39m\u001b[38;5;124m'\u001b[39m,\u001b[38;5;124m'\u001b[39m\u001b[38;5;124mMSE score\u001b[39m\u001b[38;5;124m'\u001b[39m,\u001b[38;5;124m'\u001b[39m\u001b[38;5;124mAccuracy\u001b[39m\u001b[38;5;124m'\u001b[39m,\u001b[38;5;124m'\u001b[39m\u001b[38;5;124mPrecision\u001b[39m\u001b[38;5;124m'\u001b[39m,\u001b[38;5;124m'\u001b[39m\u001b[38;5;124mRecall\u001b[39m\u001b[38;5;124m'\u001b[39m,\u001b[38;5;124m'\u001b[39m\u001b[38;5;124mF1-Score\u001b[39m\u001b[38;5;124m'\u001b[39m]\n\u001b[0;32m      2\u001b[0m model_comp \u001b[38;5;241m=\u001b[39m pd\u001b[38;5;241m.\u001b[39mDataFrame(columns\u001b[38;5;241m=\u001b[39mcol)\n\u001b[1;32m----> 3\u001b[0m model_comp \u001b[38;5;241m=\u001b[39m pd\u001b[38;5;241m.\u001b[39mconcat((\u001b[43mmodel_log_report1\u001b[49m,model_log_report2,model_log_report3,model_log_report4))\n",
      "\u001b[1;31mNameError\u001b[0m: name 'model_log_report1' is not defined"
     ]
    }
   ],
   "source": [
    "\n",
    "col =['Training Score','Testing Score','MSE score','Accuracy','Precision','Recall','F1-Score']\n",
    "model_comp = pd.DataFrame(columns=col)\n",
    "model_comp = pd.concat((model_log_report1,model_log_report2,model_log_report3,model_log_report4))\n"
   ]
  },
  {
   "cell_type": "code",
   "execution_count": 234,
   "id": "d96d52fd",
   "metadata": {},
   "outputs": [
    {
     "data": {
      "text/html": [
       "<div>\n",
       "<style scoped>\n",
       "    .dataframe tbody tr th:only-of-type {\n",
       "        vertical-align: middle;\n",
       "    }\n",
       "\n",
       "    .dataframe tbody tr th {\n",
       "        vertical-align: top;\n",
       "    }\n",
       "\n",
       "    .dataframe thead th {\n",
       "        text-align: right;\n",
       "    }\n",
       "</style>\n",
       "<table border=\"1\" class=\"dataframe\">\n",
       "  <thead>\n",
       "    <tr style=\"text-align: right;\">\n",
       "      <th></th>\n",
       "      <th>Training Score</th>\n",
       "      <th>Testing Score</th>\n",
       "      <th>MSE score</th>\n",
       "      <th>Accuracy</th>\n",
       "      <th>Precision</th>\n",
       "      <th>Recall</th>\n",
       "      <th>F1-Score</th>\n",
       "    </tr>\n",
       "  </thead>\n",
       "  <tbody>\n",
       "  </tbody>\n",
       "</table>\n",
       "</div>"
      ],
      "text/plain": [
       "Empty DataFrame\n",
       "Columns: [Training Score, Testing Score, MSE score, Accuracy, Precision, Recall, F1-Score]\n",
       "Index: []"
      ]
     },
     "execution_count": 234,
     "metadata": {},
     "output_type": "execute_result"
    }
   ],
   "source": [
    "\n",
    "model_comp\n"
   ]
  }
 ],
 "metadata": {
  "kernelspec": {
   "display_name": "Python 3 (ipykernel)",
   "language": "python",
   "name": "python3"
  },
  "language_info": {
   "codemirror_mode": {
    "name": "ipython",
    "version": 3
   },
   "file_extension": ".py",
   "mimetype": "text/x-python",
   "name": "python",
   "nbconvert_exporter": "python",
   "pygments_lexer": "ipython3",
   "version": "3.9.12"
  }
 },
 "nbformat": 4,
 "nbformat_minor": 5
}
